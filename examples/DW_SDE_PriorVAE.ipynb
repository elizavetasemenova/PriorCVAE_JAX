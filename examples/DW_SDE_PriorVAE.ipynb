{
 "cells": [
  {
   "cell_type": "markdown",
   "id": "2aeccd08",
   "metadata": {},
   "source": [
    "## Double-Well SDE and PriorVAE"
   ]
  },
  {
   "cell_type": "code",
   "execution_count": 1,
   "id": "24af6f66",
   "metadata": {},
   "outputs": [],
   "source": [
    "import random as rnd\n",
    "\n",
    "import jax.numpy as jnp\n",
    "import jax\n",
    "import matplotlib.pyplot as plt\n",
    "import optax\n",
    "import flax.linen as nn\n",
    "\n",
    "from priorCVAE.priors import DoubleWellSDE\n",
    "from priorCVAE.datasets import SDEDataset\n",
    "from priorCVAE.models import MLPDecoder, MLPEncoder, VAE, MLPDecoderTwoHeads\n",
    "from priorCVAE.trainer import VAETrainer\n",
    "from priorCVAE.utility import save_model_params\n",
    "from priorCVAE.losses import SquaredSumAndKL, NLLAndKL"
   ]
  },
  {
   "cell_type": "markdown",
   "id": "222de8b1",
   "metadata": {},
   "source": [
    "## Configuration"
   ]
  },
  {
   "cell_type": "code",
   "execution_count": null,
   "id": "a702d61d",
   "metadata": {},
   "outputs": [],
   "source": [
    "args = {\n",
    "        # setup\n",
    "        \"t0\" : 0,\n",
    "        \"t1\" : 20,\n",
    "        \"dt\" : 0.01,\n",
    "        \n",
    "        # architecture\n",
    "        \"input_dim\" : None,  # This is set later depending on the time-grid\n",
    "        \"decoder_twoheads\": True,\n",
    "        \"hidden_dim\": [1000, 500, 100],\n",
    "        \"activation_fn\": nn.sigmoid,\n",
    "        \"latent_dim\": 50,\n",
    "        \n",
    "        # VAE training    \n",
    "        \"batch_size\": 2000,\n",
    "        \"num_iterations\": 2000,\n",
    "        \"learning_rate\": 1e-3,\n",
    "        \"vae_var\": 1.0\n",
    "       }"
   ]
  },
  {
   "cell_type": "markdown",
   "id": "12b01c60",
   "metadata": {},
   "source": [
    "## Simulate the SDE and generate data"
   ]
  },
  {
   "cell_type": "code",
   "execution_count": null,
   "id": "6dceb6e8",
   "metadata": {},
   "outputs": [],
   "source": [
    "base_sde = DoubleWellSDE(c=2, q=3)\n",
    "x_init = jnp.ones((1, 1))\n",
    "\n",
    "sde_dataset_generator = SDEDataset(base_sde, x_init, dt=args[\"dt\"], t_lim_high=args[\"t1\"], t_lim_low=args[\"t0\"]) "
   ]
  },
  {
   "cell_type": "code",
   "execution_count": null,
   "id": "ed5e3f7e",
   "metadata": {},
   "outputs": [],
   "source": [
    "sample_t_train, sample_y_train, _ = sde_dataset_generator.simulatedata(n_samples=100)\n",
    "t_test, y_test, _ = sde_dataset_generator.simulatedata(n_samples=100)"
   ]
  },
  {
   "cell_type": "code",
   "execution_count": null,
   "id": "d4c15f8d",
   "metadata": {},
   "outputs": [],
   "source": [
    "args[\"input_dim\"] = sample_y_train.shape[1]"
   ]
  },
  {
   "cell_type": "code",
   "execution_count": null,
   "id": "25aeaeb2",
   "metadata": {},
   "outputs": [],
   "source": [
    "for y_i in sample_y_train:\n",
    "    plt.plot(sample_t_train[0], y_i, color=\"tab:blue\", alpha=0.2)\n",
    "\n",
    "plt.xlim([sample_t_train[0][0], sample_t_train[0][-1]])\n",
    "plt.ylim([-2.5, 2.5])\n",
    "plt.title(\"Samples of Double-Well process.\")\n",
    "plt.xlabel(\"Time (t)\")\n",
    "plt.ylabel(\"y\")\n",
    "plt.show()"
   ]
  },
  {
   "cell_type": "markdown",
   "id": "c7bfb0a2",
   "metadata": {},
   "source": [
    "## PriorVAE model"
   ]
  },
  {
   "cell_type": "code",
   "execution_count": null,
   "id": "9e01a0d4",
   "metadata": {},
   "outputs": [],
   "source": [
    "out_dim     = args[\"input_dim\"]\n",
    "hidden_dim  = args[\"hidden_dim\"]\n",
    "latent_dim  = args[\"latent_dim\"]\n",
    "batch_size  = args[\"batch_size\"]\n",
    "num_iterations  = args[\"num_iterations\"]\n",
    "learning_rate = args[\"learning_rate\"]\n",
    "vae_var = args[\"vae_var\"]\n",
    "decoder_twoheads = args[\"decoder_twoheads\"]\n",
    "activation_fn = args[\"activation_fn\"]\n",
    "\n",
    "decoder_hidden_list = hidden_dim\n",
    "decoder_hidden_list.reverse()"
   ]
  },
  {
   "cell_type": "code",
   "execution_count": null,
   "id": "cd222a0a",
   "metadata": {},
   "outputs": [],
   "source": [
    "encoder = MLPEncoder(hidden_dim, latent_dim, activation_fn)\n",
    "\n",
    "if decoder_twoheads:\n",
    "    decoder = MLPDecoderTwoHeads(decoder_hidden_list, out_dim, activation_fn)\n",
    "else:\n",
    "    decoder = MLPDecoder(decoder_hidden_list, out_dim, activation_fn)\n",
    "model = VAE(encoder, decoder)\n",
    "\n",
    "optimizer = optax.adam(learning_rate=learning_rate)"
   ]
  },
  {
   "cell_type": "markdown",
   "id": "413144ab",
   "metadata": {},
   "source": [
    "## Train the model"
   ]
  },
  {
   "cell_type": "code",
   "execution_count": null,
   "id": "e81ef35d",
   "metadata": {
    "scrolled": true
   },
   "outputs": [],
   "source": [
    "if decoder_twoheads:\n",
    "    loss = NLLAndKL()\n",
    "else:\n",
    "    loss = SquaredSumAndKL(vae_var=vae_var)\n",
    "\n",
    "trainer = VAETrainer(model, optimizer, loss=loss)\n",
    "trainer.init_params(sample_y_train[0])\n",
    "\n",
    "test_set = (t_test, y_test, _)\n",
    "loss_vals, test_vals, time_taken = trainer.train(sde_dataset_generator, test_set, num_iterations)\n",
    "\n",
    "print(f'Training of {num_iterations} iterations took {round(time_taken)} seconds')\n"
   ]
  },
  {
   "cell_type": "code",
   "execution_count": null,
   "id": "7a19472b",
   "metadata": {},
   "outputs": [],
   "source": [
    "fig, axs = plt.subplots(1, 2, figsize=(8, 3))\n",
    "\n",
    "skip_initial = 100\n",
    "\n",
    "axs[0].plot(range(len(loss_vals) - skip_initial), loss_vals[skip_initial:])\n",
    "axs[0].set_title('Training loss')\n",
    "\n",
    "axs[1].plot(range(len(test_vals) - skip_initial), test_vals[skip_initial:])\n",
    "axs[1].set_title(\"Test loss\")\n"
   ]
  },
  {
   "cell_type": "markdown",
   "id": "8fc7d0e9",
   "metadata": {},
   "source": [
    "## Samples from trained decoder"
   ]
  },
  {
   "cell_type": "code",
   "execution_count": null,
   "id": "ab8ced6b",
   "metadata": {},
   "outputs": [],
   "source": [
    "decoder_params = trainer.state.params['decoder']\n",
    "\n",
    "key = jax.random.PRNGKey(rnd.randint(0, 9999))\n",
    "rng, z_rng, init_rng = jax.random.split(key, 3)\n",
    "z = jax.random.normal(z_rng, (batch_size, latent_dim))\n",
    "\n",
    "if decoder_twoheads:\n",
    "    decoder = MLPDecoderTwoHeads(hidden_dim, out_dim, activation_fn)\n",
    "    out_m, out_S = decoder.apply({'params': decoder_params}, z)      \n",
    "    out = out_m  # ToDo: sample \n",
    "else:\n",
    "    decoder = MLPDecoder(hidden_dim, out_dim, activation_fn)\n",
    "    out = decoder.apply({'params': decoder_params}, z)             \n",
    "\n",
    "for i in range(1000):\n",
    "    plt.plot(sample_t_train[0], out[i,:], color=\"tab:red\", alpha=0.01)\n",
    "\n",
    "plt.xlabel('t')\n",
    "plt.ylabel('y')\n",
    "plt.ylim([-2.5, 2.5])\n",
    "plt.title('Examples of learnt trajectories')\n",
    "\n",
    "plt.show()"
   ]
  },
  {
   "cell_type": "code",
   "execution_count": null,
   "id": "4e992723",
   "metadata": {},
   "outputs": [],
   "source": [
    "## Generate 1000 samples\n",
    "key = jax.random.PRNGKey(rnd.randint(0, 9999))\n",
    "rng, z_rng, init_rng = jax.random.split(key, 3)\n",
    "z = jax.random.normal(z_rng, (2000, latent_dim))\n",
    "\n",
    "decoder = MLPDecoder(hidden_dim, out_dim)\n",
    "out = decoder.apply({'params': decoder_params}, z) "
   ]
  },
  {
   "cell_type": "code",
   "execution_count": null,
   "id": "03ff946d",
   "metadata": {},
   "outputs": [],
   "source": [
    "out.shape"
   ]
  },
  {
   "cell_type": "code",
   "execution_count": null,
   "id": "6dbf64cc",
   "metadata": {},
   "outputs": [],
   "source": [
    "plt.hist(out.reshape(-1), bins=20, density=True)\n",
    "plt.show()"
   ]
  },
  {
   "cell_type": "code",
   "execution_count": null,
   "id": "e41e8346",
   "metadata": {},
   "outputs": [],
   "source": [
    "plt.hist(sample_y_train.reshape(-1), bins=20, density=True)\n",
    "plt.show()"
   ]
  },
  {
   "cell_type": "code",
   "execution_count": null,
   "id": "080c6bc3",
   "metadata": {},
   "outputs": [],
   "source": [
    "# save_model_params(\"DW/16000_3_hidden\", trainer.state.params)"
   ]
  },
  {
   "cell_type": "code",
   "execution_count": null,
   "id": "7633683d",
   "metadata": {},
   "outputs": [],
   "source": []
  }
 ],
 "metadata": {
  "kernelspec": {
   "display_name": "Python 3 (ipykernel)",
   "language": "python",
   "name": "python3"
  },
  "language_info": {
   "codemirror_mode": {
    "name": "ipython",
    "version": 3
   },
   "file_extension": ".py",
   "mimetype": "text/x-python",
   "name": "python",
   "nbconvert_exporter": "python",
   "pygments_lexer": "ipython3",
   "version": "3.10.1"
  }
 },
 "nbformat": 4,
 "nbformat_minor": 5
}
