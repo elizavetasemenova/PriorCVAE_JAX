{
 "cells": [
  {
   "cell_type": "code",
   "execution_count": 1,
   "id": "yk-jtdVk8ZR5",
   "metadata": {
    "executionInfo": {
     "elapsed": 658,
     "status": "ok",
     "timestamp": 1695910291865,
     "user": {
      "displayName": "Elizaveta Semenova",
      "userId": "17994025625023821973"
     },
     "user_tz": -240
    },
    "id": "yk-jtdVk8ZR5"
   },
   "outputs": [],
   "source": [
    "import os\n",
    "import matplotlib\n",
    "import matplotlib.pyplot as plt\n",
    "import numpy as np\n",
    "\n",
    "from jax.experimental.ode import odeint\n",
    "import jax.numpy as jnp\n",
    "from jax.random import PRNGKey\n",
    "\n",
    "import numpyro\n",
    "import numpyro.distributions as dist\n",
    "from numpyro.infer import MCMC, NUTS, Predictive"
   ]
  },
  {
   "cell_type": "markdown",
   "id": "sqSEIDB6zWF7",
   "metadata": {
    "id": "sqSEIDB6zWF7"
   },
   "source": [
    "## Define model"
   ]
  },
  {
   "cell_type": "code",
   "execution_count": 66,
   "id": "fMMnfMaT8lwo",
   "metadata": {
    "executionInfo": {
     "elapsed": 3,
     "status": "ok",
     "timestamp": 1695910292253,
     "user": {
      "displayName": "Elizaveta Semenova",
      "userId": "17994025625023821973"
     },
     "user_tz": -240
    },
    "id": "fMMnfMaT8lwo"
   },
   "outputs": [],
   "source": [
    "def dz_dt(z, t, beta, gamma, N):\n",
    "    \"\"\"\n",
    "    Susceptible-Infectious (SIS) model.\n",
    "\n",
    "    Args:\n",
    "        beta: Infection rate (transmission rate).\n",
    "        gamma: Recovery rate.\n",
    "\n",
    "    Returns:\n",
    "        S, I, R : Arrays representing the number of susceptible, infected, and recovered individuals\n",
    "                 at each time step.\n",
    "    \"\"\"\n",
    "    # Initial conditions\n",
    "    S = z[0]\n",
    "    I = z[1]\n",
    "    R = z[2]\n",
    "\n",
    "    dS_dt = -beta * I * S / N;\n",
    "    dI_dt =  beta * I * S / N - gamma * I;\n",
    "    dR_dt =  gamma * I;\n",
    "\n",
    "    return jnp.stack([dS_dt, dI_dt, dR_dt])"
   ]
  },
  {
   "cell_type": "code",
   "execution_count": 122,
   "id": "2M9wMgcB9-S4",
   "metadata": {
    "executionInfo": {
     "elapsed": 1024,
     "status": "ok",
     "timestamp": 1695911294794,
     "user": {
      "displayName": "Elizaveta Semenova",
      "userId": "17994025625023821973"
     },
     "user_tz": -240
    },
    "id": "2M9wMgcB9-S4"
   },
   "outputs": [],
   "source": [
    "def model(num_days, z_init=None, beta=None, gamma=None, N=1000, n_states=3, observed_data=None):\n",
    "    \"\"\"\n",
    "    :param int num_days: number of measurement times\n",
    "    :param numpy.ndarray y: measured populations with shape (num_days, n_states)\n",
    "    \"\"\"\n",
    "\n",
    "    # initial population\n",
    "    if z_init == None:\n",
    "        z_init = numpyro.sample(\"z_init\", dist.LogNormal(jnp.log(10), 1).expand([n_states]))\n",
    "\n",
    "    # measurement times\n",
    "    ts = jnp.arange(float(num_days))\n",
    "\n",
    "    # parameters beta, gamma of dz_dt\n",
    "    if beta == None:\n",
    "        beta = numpyro.sample(\"beta\", dist.TruncatedNormal(loc=0.6,scale=0.9,low=0.))\n",
    "\n",
    "    if gamma == None:\n",
    "        gamma = numpyro.sample(\"gamma\", dist.TruncatedNormal(loc=0.1,scale=0.2,low=0.))\n",
    "\n",
    "    # integrate dz/dt, the result will have shape num_days x 2\n",
    "    z = numpyro.deterministic(\"z\", odeint(dz_dt, z_init, ts, beta, gamma, N, rtol=1e-6, atol=1e-5, mxstep=1000))\n",
    "\n",
    "    # Likelihood\n",
    "    numpyro.sample(\"observed\", dist.Poisson(z[:, 1]), obs=observed_data)"
   ]
  },
  {
   "cell_type": "markdown",
   "id": "ip6JlcTKBwke",
   "metadata": {
    "id": "ip6JlcTKBwke"
   },
   "source": [
    "## Simulate one sample"
   ]
  },
  {
   "cell_type": "code",
   "execution_count": 123,
   "id": "0eSbAAlgByWa",
   "metadata": {
    "executionInfo": {
     "elapsed": 3,
     "status": "ok",
     "timestamp": 1695911297684,
     "user": {
      "displayName": "Elizaveta Semenova",
      "userId": "17994025625023821973"
     },
     "user_tz": -240
    },
    "id": "0eSbAAlgByWa"
   },
   "outputs": [],
   "source": [
    "#beta_true = 0.1\n",
    "#gamma_true = 0.5\n",
    "\n",
    "N =1000\n",
    "num_days = 100\n",
    "\n",
    "z_init = jnp.array([N - 1.0, 1.0, 0.0])\n"
   ]
  },
  {
   "cell_type": "code",
   "execution_count": 124,
   "id": "3izdn5ZbByUD",
   "metadata": {
    "executionInfo": {
     "elapsed": 4,
     "status": "ok",
     "timestamp": 1695911297685,
     "user": {
      "displayName": "Elizaveta Semenova",
      "userId": "17994025625023821973"
     },
     "user_tz": -240
    },
    "id": "3izdn5ZbByUD"
   },
   "outputs": [],
   "source": [
    "sir_predictive = Predictive(model, num_samples=1)\n",
    "\n",
    "rng_key_draw = PRNGKey(10)\n",
    "\n",
    "sir_sim = sir_predictive(rng_key=rng_key_draw,\n",
    "         num_days = num_days,\n",
    "         z_init = z_init,\n",
    "         N = N)"
   ]
  },
  {
   "cell_type": "code",
   "execution_count": 125,
   "id": "ee1-q2y-ByHH",
   "metadata": {
    "colab": {
     "base_uri": "https://localhost:8080/"
    },
    "executionInfo": {
     "elapsed": 4,
     "status": "ok",
     "timestamp": 1695911300254,
     "user": {
      "displayName": "Elizaveta Semenova",
      "userId": "17994025625023821973"
     },
     "user_tz": -240
    },
    "id": "ee1-q2y-ByHH",
    "outputId": "f05ed396-d616-4120-ff0d-79ad4f826c52"
   },
   "outputs": [
    {
     "name": "stdout",
     "output_type": "stream",
     "text": [
      "beta = [1.4993744]\n",
      "gamma = [0.2150667]\n"
     ]
    }
   ],
   "source": [
    "z = sir_sim['z'][0,:,:]\n",
    "sim_observations = sir_sim['observed'][0,:]\n",
    "\n",
    "print(\"beta = {}\".format(sir_sim['beta']))\n",
    "print(\"gamma = {}\".format(sir_sim['gamma']))"
   ]
  },
  {
   "cell_type": "code",
   "execution_count": 126,
   "id": "B0RE21HGC-qC",
   "metadata": {
    "colab": {
     "base_uri": "https://localhost:8080/",
     "height": 448
    },
    "executionInfo": {
     "elapsed": 10,
     "status": "ok",
     "timestamp": 1695911305548,
     "user": {
      "displayName": "Elizaveta Semenova",
      "userId": "17994025625023821973"
     },
     "user_tz": -240
    },
    "id": "B0RE21HGC-qC",
    "outputId": "f567da42-c24e-48e2-8f50-4da3514f5e46"
   },
   "outputs": [
    {
     "data": {
      "text/plain": [
       "<matplotlib.legend.Legend at 0x7e2078429c00>"
      ]
     },
     "execution_count": 126,
     "metadata": {},
     "output_type": "execute_result"
    },
    {
     "data": {
      "image/png": "[encoded data removed]",
      "text/plain": [
       "<Figure size 640x480 with 1 Axes>"
      ]
     },
     "metadata": {},
     "output_type": "display_data"
    }
   ],
   "source": [
    "plt.plot(range(z.shape[0]), z[:,0], label='S')\n",
    "plt.plot(range(z.shape[0]), z[:,1], label='I')\n",
    "plt.plot(range(z.shape[0]), z[:,2], label='R')\n",
    "plt.scatter(range(z.shape[0]), sim_observations, label='observation', color='orange')\n",
    "plt.legend()"
   ]
  },
  {
   "cell_type": "markdown",
   "id": "37JBWhslIf7I",
   "metadata": {
    "id": "37JBWhslIf7I"
   },
   "source": [
    "## Prior predictive"
   ]
  },
  {
   "cell_type": "code",
   "execution_count": 127,
   "id": "S9J_wNrYIhzI",
   "metadata": {
    "executionInfo": {
     "elapsed": 5477,
     "status": "ok",
     "timestamp": 1695911332326,
     "user": {
      "displayName": "Elizaveta Semenova",
      "userId": "17994025625023821973"
     },
     "user_tz": -240
    },
    "id": "S9J_wNrYIhzI"
   },
   "outputs": [],
   "source": [
    "sir_predictive = Predictive(model, num_samples=110)\n",
    "\n",
    "rng_key_draw = PRNGKey(11)\n",
    "\n",
    "sir_sims = sir_predictive(rng_key=rng_key_draw,\n",
    "         num_days = num_days,\n",
    "         z_init = z_init,\n",
    "         N = N)"
   ]
  },
  {
   "cell_type": "code",
   "execution_count": 128,
   "id": "r4kERNMzIrT9",
   "metadata": {
    "colab": {
     "base_uri": "https://localhost:8080/"
    },
    "executionInfo": {
     "elapsed": 4,
     "status": "ok",
     "timestamp": 1695911332326,
     "user": {
      "displayName": "Elizaveta Semenova",
      "userId": "17994025625023821973"
     },
     "user_tz": -240
    },
    "id": "r4kERNMzIrT9",
    "outputId": "b2c6d3ce-0d59-4cd8-9f8a-8d23df35ca71"
   },
   "outputs": [
    {
     "data": {
      "text/plain": [
       "(110, 100, 3)"
      ]
     },
     "execution_count": 128,
     "metadata": {},
     "output_type": "execute_result"
    }
   ],
   "source": [
    "sir_sims['z'].shape"
   ]
  },
  {
   "cell_type": "code",
   "execution_count": 129,
   "id": "W9TSmqlzJLs0",
   "metadata": {
    "executionInfo": {
     "elapsed": 3,
     "status": "ok",
     "timestamp": 1695911335962,
     "user": {
      "displayName": "Elizaveta Semenova",
      "userId": "17994025625023821973"
     },
     "user_tz": -240
    },
    "id": "W9TSmqlzJLs0"
   },
   "outputs": [],
   "source": [
    "z_prior_pred = sir_sims['z']"
   ]
  },
  {
   "cell_type": "code",
   "execution_count": 130,
   "id": "apezNuxGJM6_",
   "metadata": {
    "executionInfo": {
     "elapsed": 2,
     "status": "ok",
     "timestamp": 1695911336632,
     "user": {
      "displayName": "Elizaveta Semenova",
      "userId": "17994025625023821973"
     },
     "user_tz": -240
    },
    "id": "apezNuxGJM6_"
   },
   "outputs": [],
   "source": [
    "z_prior_mean = z_prior_pred.mean(axis=0)\n",
    "z_prior_25 = np.quantile(z_prior_pred, 0.25, axis=0)\n",
    "z_prior_75 = np.quantile(z_prior_pred, 0.75, axis=0)"
   ]
  },
  {
   "cell_type": "code",
   "execution_count": 131,
   "id": "euEOyVZNJp7e",
   "metadata": {
    "executionInfo": {
     "elapsed": 942,
     "status": "ok",
     "timestamp": 1695911339143,
     "user": {
      "displayName": "Elizaveta Semenova",
      "userId": "17994025625023821973"
     },
     "user_tz": -240
    },
    "id": "euEOyVZNJp7e"
   },
   "outputs": [],
   "source": [
    "ntimes = z_prior_mean.shape[0]"
   ]
  },
  {
   "cell_type": "code",
   "execution_count": 132,
   "id": "uFgOOWWIJ04X",
   "metadata": {
    "colab": {
     "base_uri": "https://localhost:8080/"
    },
    "executionInfo": {
     "elapsed": 1925,
     "status": "ok",
     "timestamp": 1695911344003,
     "user": {
      "displayName": "Elizaveta Semenova",
      "userId": "17994025625023821973"
     },
     "user_tz": -240
    },
    "id": "uFgOOWWIJ04X",
    "outputId": "62d57164-1801-4cf2-82f4-1ebd19000b31"
   },
   "outputs": [
    {
     "data": {
      "text/plain": [
       "(100, 3)"
      ]
     },
     "execution_count": 132,
     "metadata": {},
     "output_type": "execute_result"
    }
   ],
   "source": [
    "z_prior_mean.shape"
   ]
  },
  {
   "cell_type": "code",
   "execution_count": 133,
   "id": "2ZhspDReKjV7",
   "metadata": {
    "colab": {
     "base_uri": "https://localhost:8080/"
    },
    "executionInfo": {
     "elapsed": 6,
     "status": "ok",
     "timestamp": 1695911347549,
     "user": {
      "displayName": "Elizaveta Semenova",
      "userId": "17994025625023821973"
     },
     "user_tz": -240
    },
    "id": "2ZhspDReKjV7",
    "outputId": "a1e1f481-f2f6-4553-a67d-b347b61e8d44"
   },
   "outputs": [
    {
     "data": {
      "text/plain": [
       "(110, 100, 3)"
      ]
     },
     "execution_count": 133,
     "metadata": {},
     "output_type": "execute_result"
    }
   ],
   "source": [
    "z_prior_pred.shape"
   ]
  },
  {
   "cell_type": "code",
   "execution_count": 134,
   "id": "xQ30euhDJnck",
   "metadata": {
    "colab": {
     "base_uri": "https://localhost:8080/",
     "height": 448
    },
    "executionInfo": {
     "elapsed": 929,
     "status": "ok",
     "timestamp": 1695911352499,
     "user": {
      "displayName": "Elizaveta Semenova",
      "userId": "17994025625023821973"
     },
     "user_tz": -240
    },
    "id": "xQ30euhDJnck",
    "outputId": "2b3db357-7b10-46d3-c775-f9d1147fcfa8"
   },
   "outputs": [
    {
     "data": {
      "text/plain": [
       "<matplotlib.legend.Legend at 0x7e2077b07ee0>"
      ]
     },
     "execution_count": 134,
     "metadata": {},
     "output_type": "execute_result"
    },
    {
     "data": {
      "image/png": "[encoded data removed]",
      "text/plain": [
       "<Figure size 640x480 with 1 Axes>"
      ]
     },
     "metadata": {},
     "output_type": "display_data"
    }
   ],
   "source": [
    "N_lines = 10\n",
    "\n",
    "plt.plot(range(ntimes), z_prior_mean[:,0], label=\"S, mean\", color=\"darkgreen\")\n",
    "plt.plot(range(ntimes), z_prior_mean[:,1], label=\"I, mean\", color= \"red\")\n",
    "plt.plot(range(ntimes), z_prior_mean[:,2], label=\"R, mean\", color= \"dodgerblue\")\n",
    "\n",
    "plt.fill_between(range(ntimes), z_prior_25[:, 1], z_prior_75[:,1], alpha=0.4, interpolate=True, label=\"I, 90% BCI\", color=\"orange\")\n",
    "\n",
    "for j in range(N_lines):\n",
    "    itr = int(z_prior_pred.shape[0]/N_lines)\n",
    "    if j == 0:\n",
    "      plt.plot(range(ntimes), z_prior_pred[j* itr,:, 1], alpha=0.8, color=\"orange\", label=\"I, trajectories\")\n",
    "    plt.plot(range(ntimes), z_prior_pred[j* itr,:, 1], alpha=0.8, color=\"orange\", label=\"\")\n",
    "\n",
    "plt.legend()\n"
   ]
  },
  {
   "cell_type": "code",
   "execution_count": null,
   "id": "Qcz9Yb8mJnWC",
   "metadata": {
    "id": "Qcz9Yb8mJnWC"
   },
   "outputs": [],
   "source": []
  },
  {
   "cell_type": "code",
   "execution_count": null,
   "id": "L1Mro2cJIhuf",
   "metadata": {
    "id": "L1Mro2cJIhuf"
   },
   "outputs": [],
   "source": [
    "plt.scatter(x_obs, y_obs, color=\"red\", label=\"observed data\", s=60)\n",
    "plt.plot(x, mean_post_pred_vae, label=\"predicted mean VAE\")\n",
    "\n",
    "plt.fill_between(x, percentiles_vae[0, :], percentiles_vae[1, :], alpha=0.3, interpolate=True, label=\"VAE posterior: 90% BCI\")\n",
    "#for j in range(N_lines):\n",
    "#    itr = int(predictions_vae.shape[0]/N_lines)\n",
    "#    plt.plot(x, predictions_vae[j* itr,:], alpha=0.2, color=\"darkgreen\", label=\"\")\n",
    "\n",
    "\n",
    "plt.title('PriorCVAE inference')\n",
    "plt.ylim([-2, 1])"
   ]
  },
  {
   "cell_type": "code",
   "execution_count": null,
   "id": "LJBDOHgLL5_5",
   "metadata": {
    "colab": {
     "background_save": true
    },
    "id": "LJBDOHgLL5_5"
   },
   "outputs": [],
   "source": []
  }
 ],
 "metadata": {
  "colab": {
   "provenance": []
  },
  "kernelspec": {
   "display_name": "Python 3 (ipykernel)",
   "language": "python",
   "name": "python3"
  },
  "language_info": {
   "codemirror_mode": {
    "name": "ipython",
    "version": 3
   },
   "file_extension": ".py",
   "mimetype": "text/x-python",
   "name": "python",
   "nbconvert_exporter": "python",
   "pygments_lexer": "ipython3",
   "version": "3.10.1"
  }
 },
 "nbformat": 4,
 "nbformat_minor": 5
}
