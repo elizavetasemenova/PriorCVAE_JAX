{
 "cells": [
  {
   "cell_type": "code",
   "execution_count": 1,
   "id": "v_TcxbSR9AXd",
   "metadata": {
    "colab": {
     "base_uri": "https://localhost:8080/"
    },
    "id": "v_TcxbSR9AXd",
    "outputId": "6e72f7d0-23d2-416d-9e01-97c333d58c47"
   },
   "outputs": [],
   "source": [
    "#!pip install -q numpyro@git+https://github.com/pyro-ppl/numpyro"
   ]
  },
  {
   "cell_type": "code",
   "execution_count": 2,
   "id": "112ef5f5",
   "metadata": {},
   "outputs": [],
   "source": [
    "#import os\n",
    "#os.environ['KMP_DUPLICATE_LIB_OK']='True'"
   ]
  },
  {
   "cell_type": "code",
   "execution_count": 14,
   "id": "c8a913dc",
   "metadata": {
    "id": "c8a913dc"
   },
   "outputs": [
    {
     "name": "stdout",
     "output_type": "stream",
     "text": [
      "0.10.1\n",
      "0.3.25\n"
     ]
    }
   ],
   "source": [
    "import os\n",
    "import sys\n",
    "import time\n",
    "import numpy as np \n",
    "import matplotlib.pyplot as plt \n",
    "\n",
    "# Numpyro\n",
    "import numpyro\n",
    "import numpyro.distributions as npdist\n",
    "import random as rnd\n",
    "from numpyro.infer import Predictive, init_to_median, init_to_feasible, MCMC, NUTS\n",
    "from numpyro.diagnostics import hpdi\n",
    "\n",
    "numpyro.set_host_device_count(4)\n",
    "\n",
    "#JAX\n",
    "import jax\n",
    "from jax import random\n",
    "import jax.numpy as jnp\n",
    "from jax import vmap\n",
    "\n",
    "from tqdm import tqdm, trange\n",
    "\n",
    "import arviz\n",
    "import dill\n",
    "\n",
    "print(numpyro.__version__)\n",
    "print(jax.__version__)"
   ]
  },
  {
   "cell_type": "markdown",
   "id": "_Vm3opb1U5r6",
   "metadata": {
    "id": "_Vm3opb1U5r6"
   },
   "source": [
    "## GP priors"
   ]
  },
  {
   "cell_type": "code",
   "execution_count": 15,
   "id": "Y1z3oNFaU4V-",
   "metadata": {
    "id": "Y1z3oNFaU4V-"
   },
   "outputs": [],
   "source": [
    "def dist_euclid(x, z):\n",
    "    x = jnp.array(x) \n",
    "    z = jnp.array(z)\n",
    "    if len(x.shape)==1:\n",
    "        x = x.reshape(x.shape[0], 1)\n",
    "    if len(z.shape)==1:\n",
    "        z = z.reshape(z.shape[0], 1)\n",
    "    n_x, m = x.shape\n",
    "    n_z, m_z = z.shape\n",
    "    assert m == m_z\n",
    "    delta = jnp.zeros((n_x,n_z))\n",
    "    for d in jnp.arange(m):\n",
    "        x_d = x[:,d]\n",
    "        z_d = z[:,d]\n",
    "        delta += (x_d[:,jnp.newaxis] - z_d)**2\n",
    "    return jnp.sqrt(delta)\n",
    "\n",
    "def exp_sq_kernel(x, z, var, length, noise=0, jitter=1.0e-5):\n",
    "    dist = dist_euclid(x, z)\n",
    "    deltaXsq = jnp.power(dist/ length, 2.0)\n",
    "    k = var * jnp.exp(-0.5 * deltaXsq)\n",
    "    k += (noise + jitter) * jnp.eye(x.shape[0])\n",
    "    return k\n",
    "\n",
    "def GP(x, jitter=1e-5, var=1.0, length=None, y=None, noise=False, gp_kernel=exp_sq_kernel):\n",
    "\n",
    "    if length==None:  \n",
    "        length = numpyro.sample(\"length\", npdist.Uniform(0.01,0.99)) \n",
    "            \n",
    "    k = gp_kernel(x, x, var, length, jitter)\n",
    "    \n",
    "    if noise==False:\n",
    "        y = numpyro.sample(\"y\",  npdist.MultivariateNormal(loc=jnp.zeros(x.shape[0]), covariance_matrix=k), obs=y)\n",
    "    else:\n",
    "        sigma = numpyro.sample(\"noise\", npdist.HalfNormal(0.1))\n",
    "        f = numpyro.sample(\"f\", npdist.MultivariateNormal(loc=jnp.zeros(x.shape[0]), covariance_matrix=k))\n",
    "        y = numpyro.sample(\"y\", npdist.Normal(f, sigma), obs=y)"
   ]
  },
  {
   "cell_type": "markdown",
   "id": "fU7PYxaCYggu",
   "metadata": {
    "id": "fU7PYxaCYggu"
   },
   "source": [
    "## Generate data"
   ]
  },
  {
   "cell_type": "code",
   "execution_count": 16,
   "id": "YDwLponvtqIk",
   "metadata": {
    "colab": {
     "base_uri": "https://localhost:8080/",
     "height": 316
    },
    "id": "YDwLponvtqIk",
    "outputId": "db5b1489-353c-4c48-9e49-791837186dd2"
   },
   "outputs": [
    {
     "data": {
      "text/plain": [
       "Text(0.5, 1.0, 'Ground truth, corresponds to ls=0.2')"
      ]
     },
     "execution_count": 16,
     "metadata": {},
     "output_type": "execute_result"
    },
    {
     "data": {
      "image/png": "[encoded data removed]",
      "text/plain": [
       "<Figure size 432x288 with 1 Axes>"
      ]
     },
     "metadata": {
      "needs_background": "light"
     },
     "output_type": "display_data"
    }
   ],
   "source": [
    "n_dataPoints = 80\n",
    "x = np.linspace(0, 1,n_dataPoints)   \n",
    "\n",
    "args = {\n",
    "        \"x\": x,\n",
    "        \"gp_kernel\": exp_sq_kernel,\n",
    "        \"num_warmup\": 5000,\n",
    "        \"num_samples\": 50000,\n",
    "        \"num_chains\": 3,\n",
    "        \"thinning\": 1,\n",
    "        \"x_pred\": x,\n",
    "        \"true_ls\": 0.2\n",
    "        }\n",
    "\n",
    "rng_key_draw =  random.PRNGKey(1)\n",
    "rng_key, rng_key_post, rng_key_preds, rng_key_draw = random.split(rng_key_draw, 4)\n",
    "\n",
    "gp_predictive = Predictive(GP, num_samples=1)\n",
    "draws = gp_predictive(rng_key_draw, x=x, jitter=1e-6, \n",
    "                      noise=True, length=args[\"true_ls\"], var=1)\n",
    "\n",
    "gp_draw = draws['f'].T\n",
    "y_draw = draws['y'].T\n",
    "\n",
    "obs_idx_lst = []\n",
    "obs_idx_lst.append([10, 30, 54, 64]) # points correspond to n=80, ls=0.2, rng1\n",
    "\n",
    "i = 0\n",
    "\n",
    "# choose indices of data points for inference\n",
    "obs_idx = jnp.array(obs_idx_lst[i])\n",
    "\n",
    "y_obs = y_draw[obs_idx,0]\n",
    "x_obs = x[np.array(obs_idx)]\n",
    "\n",
    "args['y_obs'] = y_obs\n",
    "args['obs_idx'] = obs_idx\n",
    "args['x_obs'] = x_obs\n",
    "\n",
    "plt.plot(x, gp_draw, label=\"ground truth\", color=\"orange\")\n",
    "plt.scatter(x_obs, y_obs, color=\"red\", label=\"observed data\", s=60)\n",
    "plt.title('Ground truth, corresponds to ls=' + str(args[\"true_ls\"]))"
   ]
  },
  {
   "cell_type": "markdown",
   "id": "TwVzbrovnYX3",
   "metadata": {
    "id": "TwVzbrovnYX3"
   },
   "source": [
    "## Approach 3"
   ]
  },
  {
   "cell_type": "code",
   "execution_count": 17,
   "id": "EhK_tPxVtun0",
   "metadata": {
    "colab": {
     "base_uri": "https://localhost:8080/"
    },
    "id": "EhK_tPxVtun0",
    "outputId": "239ebc2c-f696-47c8-8f93-4ff3f66fe697"
   },
   "outputs": [
    {
     "data": {
      "text/plain": [
       "dict_keys(['x', 'gp_kernel', 'num_warmup', 'num_samples', 'num_chains', 'thinning', 'x_pred', 'true_ls', 'y_obs', 'obs_idx', 'x_obs'])"
      ]
     },
     "execution_count": 17,
     "metadata": {},
     "output_type": "execute_result"
    }
   ],
   "source": [
    "args.keys()"
   ]
  },
  {
   "cell_type": "code",
   "execution_count": 18,
   "id": "qd5qZPMVsix0",
   "metadata": {
    "id": "qd5qZPMVsix0"
   },
   "outputs": [],
   "source": [
    "def GP_model(args, length=None, y=None, var=1.0, jitter=1e-5):\n",
    "\n",
    "    x_obs = args[\"x_obs\"]\n",
    "    obs_idx = args[\"obs_idx\"] \n",
    "    x_pred = args[\"x_pred\"]\n",
    "    gp_kernel = args[\"gp_kernel\"]\n",
    "\n",
    "    if length==None:  \n",
    "        length = numpyro.sample(\"length\", npdist.Uniform(0.01,0.99)) \n",
    "            \n",
    "    k = gp_kernel(x_pred, x_pred, var, length, jitter)\n",
    "    \n",
    "    f = numpyro.sample(\"f\",  npdist.MultivariateNormal(loc=jnp.zeros(len(x_pred)), covariance_matrix=k))\n",
    "    \n",
    "    sigma = numpyro.sample(\"sigma\", npdist.HalfNormal(0.1))\n",
    "\n",
    "    if y is None: # durinig prediction\n",
    "        y_pred = numpyro.sample(\"y_pred\", npdist.Normal(f, sigma))\n",
    "    else: # during inference\n",
    "        y = numpyro.sample(\"y\", npdist.Normal(f[obs_idx], sigma), obs=y)"
   ]
  },
  {
   "cell_type": "code",
   "execution_count": 19,
   "id": "6a2995d3",
   "metadata": {},
   "outputs": [
    {
     "data": {
      "application/vnd.jupyter.widget-view+json": {
       "model_id": "20763f5da38c400a97cfc39c132f4e02",
       "version_major": 2,
       "version_minor": 0
      },
      "text/plain": [
       "  0%|          | 0/55000 [00:00<?, ?it/s]"
      ]
     },
     "metadata": {},
     "output_type": "display_data"
    },
    {
     "data": {
      "application/vnd.jupyter.widget-view+json": {
       "model_id": "73361edfa1424dc6a29e05958b5cec1a",
       "version_major": 2,
       "version_minor": 0
      },
      "text/plain": [
       "  0%|          | 0/55000 [00:00<?, ?it/s]"
      ]
     },
     "metadata": {},
     "output_type": "display_data"
    },
    {
     "data": {
      "application/vnd.jupyter.widget-view+json": {
       "model_id": "b5a762bd02bb4837911e02a755cc36e6",
       "version_major": 2,
       "version_minor": 0
      },
      "text/plain": [
       "  0%|          | 0/55000 [00:00<?, ?it/s]"
      ]
     },
     "metadata": {},
     "output_type": "display_data"
    },
    {
     "name": "stdout",
     "output_type": "stream",
     "text": [
      "\n",
      "MCMC elapsed time: 7528.693607807159\n"
     ]
    }
   ],
   "source": [
    "rng_key, rng_key_predict = random.split(random.PRNGKey(2))\n",
    "start = time.time()\n",
    "\n",
    "#init_strategy = init_to_median(num_samples=10)\n",
    "#kernel = NUTS(GP_model, init_strategy=init_strategy)\n",
    "\n",
    "init_strategy = init_to_feasible()\n",
    "kernel = NUTS(GP_model, init_strategy=init_strategy)\n",
    "\n",
    "mcmc = MCMC(\n",
    "        kernel,\n",
    "        num_warmup=args[\"num_warmup\"],\n",
    "        num_samples=args[\"num_samples\"],\n",
    "        num_chains=args[\"num_chains\"],\n",
    "        thinning=args[\"thinning\"],\n",
    "        progress_bar=False if \"NUMPYRO_SPHINXBUILD\" in os.environ else True,\n",
    "    )\n",
    "mcmc.run(rng_key, args, y=args[\"y_obs\"])\n",
    "print(\"\\nMCMC elapsed time:\", time.time() - start)\n"
   ]
  },
  {
   "cell_type": "code",
   "execution_count": 23,
   "id": "94fec20d",
   "metadata": {},
   "outputs": [
    {
     "data": {
      "text/plain": [
       "125.46666666666667"
      ]
     },
     "execution_count": 23,
     "metadata": {},
     "output_type": "execute_result"
    }
   ],
   "source": [
    "7528/60"
   ]
  },
  {
   "cell_type": "code",
   "execution_count": 22,
   "id": "e394ec2d",
   "metadata": {},
   "outputs": [
    {
     "name": "stdout",
     "output_type": "stream",
     "text": [
      "\n",
      "                mean       std    median      5.0%     95.0%     n_eff     r_hat\n",
      "      f[0]      0.18      0.66      0.22     -0.91      1.22   2776.30      1.00\n",
      "      f[1]      0.16      0.63      0.20     -0.87      1.16   2586.99      1.00\n",
      "      f[2]      0.15      0.60      0.19     -0.84      1.07   2411.90      1.00\n",
      "      f[3]      0.13      0.56      0.17     -0.78      0.99   2208.65      1.00\n",
      "      f[4]      0.11      0.52      0.15     -0.72      0.90   1980.23      1.00\n",
      "      f[5]      0.08      0.47      0.13     -0.65      0.79   1863.51      1.00\n",
      "      f[6]      0.06      0.41      0.10     -0.57      0.68   1752.49      1.00\n",
      "      f[7]      0.03      0.35      0.07     -0.50      0.53   1686.99      1.00\n",
      "      f[8]      0.01      0.27      0.03     -0.43      0.38   1659.87      1.00\n",
      "      f[9]     -0.02      0.19     -0.00     -0.32      0.26   1684.39      1.00\n",
      "     f[10]     -0.05      0.13     -0.03     -0.27      0.14   1723.69      1.00\n",
      "     f[11]     -0.09      0.18     -0.09     -0.36      0.18   1517.25      1.00\n",
      "     f[12]     -0.13      0.26     -0.14     -0.50      0.24   1762.09      1.00\n",
      "     f[13]     -0.17      0.33     -0.20     -0.63      0.32   1967.09      1.00\n",
      "     f[14]     -0.22      0.38     -0.25     -0.75      0.39   2023.30      1.00\n",
      "     f[15]     -0.26      0.43     -0.30     -0.89      0.42   1954.85      1.00\n",
      "     f[16]     -0.30      0.46     -0.34     -1.00      0.45   1738.02      1.00\n",
      "     f[17]     -0.34      0.49     -0.39     -1.07      0.49   1647.68      1.00\n",
      "     f[18]     -0.38      0.51     -0.43     -1.15      0.48   1561.15      1.00\n",
      "     f[19]     -0.42      0.52     -0.47     -1.25      0.43   1464.44      1.00\n",
      "     f[20]     -0.46      0.52     -0.51     -1.29      0.39   1381.92      1.00\n",
      "     f[21]     -0.50      0.52     -0.55     -1.33      0.34   1233.21      1.00\n",
      "     f[22]     -0.53      0.51     -0.59     -1.35      0.27   1080.81      1.00\n",
      "     f[23]     -0.57      0.49     -0.62     -1.35      0.19    984.92      1.00\n",
      "     f[24]     -0.60      0.47     -0.66     -1.34      0.09    924.94      1.00\n",
      "     f[25]     -0.63      0.44     -0.69     -1.31     -0.02    854.55      1.00\n",
      "     f[26]     -0.66      0.39     -0.72     -1.23     -0.11    806.21      1.00\n",
      "     f[27]     -0.69      0.33     -0.74     -1.16     -0.21    859.67      1.00\n",
      "     f[28]     -0.72      0.27     -0.76     -1.08     -0.29    900.55      1.00\n",
      "     f[29]     -0.74      0.20     -0.77     -1.02     -0.40   1186.46      1.00\n",
      "     f[30]     -0.74      0.15     -0.78     -0.97     -0.50   1089.17      1.00\n",
      "     f[31]     -0.73      0.19     -0.76     -1.01     -0.40   1422.78      1.00\n",
      "     f[32]     -0.71      0.27     -0.74     -1.07     -0.28   1646.91      1.00\n",
      "     f[33]     -0.67      0.34     -0.71     -1.15     -0.18   1471.84      1.01\n",
      "     f[34]     -0.64      0.40     -0.67     -1.24     -0.08   1369.65      1.00\n",
      "     f[35]     -0.60      0.44     -0.64     -1.29      0.05   1292.74      1.00\n",
      "     f[36]     -0.55      0.49     -0.61     -1.32      0.18   1150.65      1.00\n",
      "     f[37]     -0.51      0.52     -0.57     -1.35      0.28    977.07      1.00\n",
      "     f[38]     -0.47      0.55     -0.53     -1.33      0.41   1003.00      1.00\n",
      "     f[39]     -0.43      0.56     -0.49     -1.31      0.49   1108.57      1.00\n",
      "     f[40]     -0.39      0.57     -0.46     -1.29      0.54   1138.72      1.00\n",
      "     f[41]     -0.35      0.57     -0.42     -1.22      0.63   1176.63      1.00\n",
      "     f[42]     -0.32      0.56     -0.38     -1.18      0.65   1347.85      1.00\n",
      "     f[43]     -0.29      0.55     -0.35     -1.12      0.68   1456.80      1.00\n",
      "     f[44]     -0.26      0.54     -0.31     -1.06      0.68   1529.59      1.00\n",
      "     f[45]     -0.23      0.52     -0.28     -0.99      0.69   1614.87      1.00\n",
      "     f[46]     -0.21      0.51     -0.25     -0.93      0.68   1648.68      1.00\n",
      "     f[47]     -0.19      0.49     -0.21     -0.89      0.63   1627.54      1.00\n",
      "     f[48]     -0.16      0.46     -0.18     -0.82      0.58   1620.60      1.00\n",
      "     f[49]     -0.15      0.42     -0.16     -0.74      0.53   1603.97      1.00\n",
      "     f[50]     -0.13      0.38     -0.13     -0.68      0.43   1569.28      1.00\n",
      "     f[51]     -0.12      0.32     -0.11     -0.59      0.34   1489.12      1.00\n",
      "     f[52]     -0.11      0.26     -0.09     -0.50      0.24   1539.21      1.00\n",
      "     f[53]     -0.10      0.18     -0.08     -0.41      0.15   1533.89      1.00\n",
      "     f[54]     -0.10      0.13     -0.07     -0.33      0.08   1355.49      1.00\n",
      "     f[55]     -0.09      0.17     -0.08     -0.38      0.14   1169.16      1.00\n",
      "     f[56]     -0.10      0.24     -0.09     -0.46      0.19    968.45      1.00\n",
      "     f[57]     -0.11      0.28     -0.10     -0.53      0.23    921.42      1.00\n",
      "     f[58]     -0.12      0.30     -0.12     -0.58      0.25    882.73      1.00\n",
      "     f[59]     -0.14      0.31     -0.13     -0.59      0.27    839.24      1.00\n",
      "     f[60]     -0.15      0.32     -0.15     -0.62      0.24    760.59      1.00\n",
      "     f[61]     -0.17      0.31     -0.18     -0.59      0.18    734.62      1.00\n",
      "     f[62]     -0.20      0.26     -0.20     -0.53      0.11    823.73      1.00\n",
      "     f[63]     -0.22      0.17     -0.23     -0.46      0.03   1166.42      1.00\n",
      "     f[64]     -0.24      0.11     -0.26     -0.41     -0.05   2166.85      1.00\n",
      "     f[65]     -0.25      0.19     -0.27     -0.51      0.04   1176.63      1.00\n",
      "     f[66]     -0.25      0.28     -0.29     -0.62      0.13    974.29      1.00\n",
      "     f[67]     -0.26      0.35     -0.30     -0.72      0.24   1061.28      1.00\n",
      "     f[68]     -0.26      0.41     -0.31     -0.84      0.32   1203.67      1.00\n",
      "     f[69]     -0.27      0.47     -0.33     -0.92      0.42   1292.35      1.00\n",
      "     f[70]     -0.28      0.51     -0.33     -1.03      0.49   1398.06      1.00\n",
      "     f[71]     -0.28      0.55     -0.34     -1.11      0.56   1525.80      1.00\n",
      "     f[72]     -0.29      0.58     -0.34     -1.19      0.62   1641.64      1.00\n",
      "     f[73]     -0.29      0.61     -0.35     -1.24      0.69   1730.93      1.00\n",
      "     f[74]     -0.29      0.64     -0.35     -1.32      0.74   1857.70      1.00\n",
      "     f[75]     -0.29      0.67     -0.34     -1.36      0.80   2019.16      1.00\n",
      "     f[76]     -0.29      0.70     -0.34     -1.43      0.83   2213.31      1.00\n",
      "     f[77]     -0.29      0.73     -0.34     -1.44      0.91   2451.82      1.00\n",
      "     f[78]     -0.29      0.75     -0.33     -1.49      0.95   2733.77      1.00\n",
      "     f[79]     -0.29      0.77     -0.33     -1.54      0.96   3025.84      1.00\n",
      "    length      0.22      0.16      0.20      0.01      0.37    425.97      1.00\n",
      "     sigma      0.10      0.07      0.08      0.00      0.20   1315.88      1.00\n",
      "\n",
      "Number of divergences: 49\n"
     ]
    }
   ],
   "source": [
    "mcmc.print_summary(exclude_deterministic=False)    \n",
    "mcmc_samples = mcmc.get_samples()"
   ]
  },
  {
   "cell_type": "code",
   "execution_count": 31,
   "id": "7b19bd17",
   "metadata": {},
   "outputs": [
    {
     "name": "stdout",
     "output_type": "stream",
     "text": [
      "Average ESS for all GP effects : 1496\n"
     ]
    }
   ],
   "source": [
    "ss = numpyro.diagnostics.summary(mcmc.get_samples(group_by_chain=True))\n",
    "r = np.mean(ss['f']['n_eff'])\n",
    "print(\"Average ESS for all GP effects : \" + str(round(r)))"
   ]
  },
  {
   "cell_type": "code",
   "execution_count": 24,
   "id": "smp-GSVSWYFR",
   "metadata": {
    "id": "smp-GSVSWYFR"
   },
   "outputs": [
    {
     "data": {
      "text/plain": [
       "dict_keys(['f', 'length', 'sigma'])"
      ]
     },
     "execution_count": 24,
     "metadata": {},
     "output_type": "execute_result"
    }
   ],
   "source": [
    "mcmc_samples.keys()"
   ]
  },
  {
   "cell_type": "code",
   "execution_count": 25,
   "id": "bBLwby28aHCa",
   "metadata": {
    "id": "bBLwby28aHCa"
   },
   "outputs": [
    {
     "data": {
      "image/png": "[encoded data removed]",
      "text/plain": [
       "<Figure size 432x288 with 1 Axes>"
      ]
     },
     "metadata": {
      "needs_background": "light"
     },
     "output_type": "display_data"
    }
   ],
   "source": [
    "ls_samps = mcmc_samples['length']\n",
    "plt.hist(ls_samps, density=True, label = 'posterior samples')\n",
    "plt.axvline(x = true_ls, color = 'red', label = 'true lengthscale')\n",
    "plt.xlim(0,1)\n",
    "plt.title('Original GP model: ls - posterior samples')\n",
    "plt.legend()\n",
    "plt.show()"
   ]
  },
  {
   "cell_type": "code",
   "execution_count": 26,
   "id": "l7BnZ2cDBJjR",
   "metadata": {
    "id": "l7BnZ2cDBJjR"
   },
   "outputs": [
    {
     "data": {
      "image/png": "[encoded data removed]",
      "text/plain": [
       "<Figure size 432x288 with 1 Axes>"
      ]
     },
     "metadata": {
      "needs_background": "light"
     },
     "output_type": "display_data"
    }
   ],
   "source": [
    "predictions_gp = mcmc_samples['f']\n",
    "\n",
    "mean_post_pred_gp = jnp.mean(predictions_gp, axis=0)\n",
    "hpdi_post_pred_gp = hpdi(predictions_gp, 0.9)\n",
    "percentiles = np.percentile(predictions_gp, [5.0, 95.0], axis=0)\n",
    "\n",
    "N_lines = 10\n",
    "plt.plot(args[\"x\"], gp_draw, label=\"ground truth\", color=\"orange\")\n",
    "plt.scatter(x_obs, y_obs, color=\"red\", label=\"observed data\", s=60)\n",
    "plt.plot(args[\"x\"], mean_post_pred_gp, label=\"predicted mean\")\n",
    "plt.fill_between(args[\"x\"], percentiles[0, :], percentiles[1, :], alpha=0.3, interpolate=True, label=\"GP posterior: 90% BCI\")\n",
    "for j in range(N_lines):\n",
    "    itr = int(predictions_gp.shape[0]/N_lines)\n",
    "    plt.plot(args[\"x\"], predictions_gp[j* itr,:], alpha=0.2, color=\"darkgreen\", label=\"\")"
   ]
  },
  {
   "cell_type": "code",
   "execution_count": 28,
   "id": "5E-4AM7-u0i9",
   "metadata": {
    "id": "5E-4AM7-u0i9"
   },
   "outputs": [
    {
     "data": {
      "text/plain": [
       "array([[<AxesSubplot: title={'center': 'sigma'}>,\n",
       "        <AxesSubplot: title={'center': 'sigma'}>]], dtype=object)"
      ]
     },
     "execution_count": 28,
     "metadata": {},
     "output_type": "execute_result"
    },
    {
     "data": {
      "image/png": "[encoded data removed]",
      "text/plain": [
       "<Figure size 864x144 with 2 Axes>"
      ]
     },
     "metadata": {
      "needs_background": "light"
     },
     "output_type": "display_data"
    },
    {
     "data": {
      "image/png": "[encoded data removed]",
      "text/plain": [
       "<Figure size 864x144 with 2 Axes>"
      ]
     },
     "metadata": {
      "needs_background": "light"
     },
     "output_type": "display_data"
    }
   ],
   "source": [
    "import arviz as az\n",
    "\n",
    "az_data = az.from_numpyro(mcmc)\n",
    "#az.plot_trace(az_data, var_names=('f'), filter_vars=\"like\")\n",
    "az.plot_trace(az_data, var_names=('length'), filter_vars=\"like\")\n",
    "az.plot_trace(az_data, var_names=('sigma'))"
   ]
  },
  {
   "cell_type": "code",
   "execution_count": 29,
   "id": "869b1997",
   "metadata": {},
   "outputs": [
    {
     "name": "stdout",
     "output_type": "stream",
     "text": [
      "mcmc/gp1d_n80_niter55000.pkl\n"
     ]
    }
   ],
   "source": [
    "fname = 'mcmc/gp1d_n' + str(n_dataPoints) + '_niter' + str(args[\"num_samples\"] + args[\"num_warmup\"]) + '.pkl'\n",
    "print(fname)"
   ]
  },
  {
   "cell_type": "code",
   "execution_count": 30,
   "id": "97262647",
   "metadata": {},
   "outputs": [],
   "source": [
    "with open(fname, 'wb') as f:\n",
    "    dill.dump(mcmc, f)"
   ]
  },
  {
   "cell_type": "code",
   "execution_count": 34,
   "id": "bacb2eb3",
   "metadata": {},
   "outputs": [],
   "source": [
    "#with open(fname, 'rb') as f:\n",
    "#    mcmc = dill.load(f)"
   ]
  },
  {
   "cell_type": "code",
   "execution_count": null,
   "id": "247581ff",
   "metadata": {},
   "outputs": [],
   "source": []
  }
 ],
 "metadata": {
  "colab": {
   "provenance": []
  },
  "kernelspec": {
   "display_name": "Python 3 (ipykernel)",
   "language": "python",
   "name": "python3"
  },
  "language_info": {
   "codemirror_mode": {
    "name": "ipython",
    "version": 3
   },
   "file_extension": ".py",
   "mimetype": "text/x-python",
   "name": "python",
   "nbconvert_exporter": "python",
   "pygments_lexer": "ipython3",
   "version": "3.10.1"
  },
  "widgets": {
   "application/vnd.jupyter.widget-state+json": {
    "001fc3b687e3443780ca5187f940d4ae": {
     "model_module": "@jupyter-widgets/controls",
     "model_module_version": "1.5.0",
     "model_name": "ProgressStyleModel",
     "state": {
      "_model_module": "@jupyter-widgets/controls",
      "_model_module_version": "1.5.0",
      "_model_name": "ProgressStyleModel",
      "_view_count": null,
      "_view_module": "@jupyter-widgets/base",
      "_view_module_version": "1.2.0",
      "_view_name": "StyleView",
      "bar_color": null,
      "description_width": ""
     }
    },
    "0162f561f17a42e09537b2dcbf393dc8": {
     "model_module": "@jupyter-widgets/base",
     "model_module_version": "1.2.0",
     "model_name": "LayoutModel",
     "state": {
      "_model_module": "@jupyter-widgets/base",
      "_model_module_version": "1.2.0",
      "_model_name": "LayoutModel",
      "_view_count": null,
      "_view_module": "@jupyter-widgets/base",
      "_view_module_version": "1.2.0",
      "_view_name": "LayoutView",
      "align_content": null,
      "align_items": null,
      "align_self": null,
      "border": null,
      "bottom": null,
      "display": null,
      "flex": null,
      "flex_flow": null,
      "grid_area": null,
      "grid_auto_columns": null,
      "grid_auto_flow": null,
      "grid_auto_rows": null,
      "grid_column": null,
      "grid_gap": null,
      "grid_row": null,
      "grid_template_areas": null,
      "grid_template_columns": null,
      "grid_template_rows": null,
      "height": null,
      "justify_content": null,
      "justify_items": null,
      "left": null,
      "margin": null,
      "max_height": null,
      "max_width": null,
      "min_height": null,
      "min_width": null,
      "object_fit": null,
      "object_position": null,
      "order": null,
      "overflow": null,
      "overflow_x": null,
      "overflow_y": null,
      "padding": null,
      "right": null,
      "top": null,
      "visibility": null,
      "width": null
     }
    },
    "09d1b43bf8ae4d0bbad93411d429fc65": {
     "model_module": "@jupyter-widgets/base",
     "model_module_version": "1.2.0",
     "model_name": "LayoutModel",
     "state": {
      "_model_module": "@jupyter-widgets/base",
      "_model_module_version": "1.2.0",
      "_model_name": "LayoutModel",
      "_view_count": null,
      "_view_module": "@jupyter-widgets/base",
      "_view_module_version": "1.2.0",
      "_view_name": "LayoutView",
      "align_content": null,
      "align_items": null,
      "align_self": null,
      "border": null,
      "bottom": null,
      "display": null,
      "flex": null,
      "flex_flow": null,
      "grid_area": null,
      "grid_auto_columns": null,
      "grid_auto_flow": null,
      "grid_auto_rows": null,
      "grid_column": null,
      "grid_gap": null,
      "grid_row": null,
      "grid_template_areas": null,
      "grid_template_columns": null,
      "grid_template_rows": null,
      "height": null,
      "justify_content": null,
      "justify_items": null,
      "left": null,
      "margin": null,
      "max_height": null,
      "max_width": null,
      "min_height": null,
      "min_width": null,
      "object_fit": null,
      "object_position": null,
      "order": null,
      "overflow": null,
      "overflow_x": null,
      "overflow_y": null,
      "padding": null,
      "right": null,
      "top": null,
      "visibility": null,
      "width": null
     }
    },
    "13de949b03044a04805267f48a902d08": {
     "model_module": "@jupyter-widgets/controls",
     "model_module_version": "1.5.0",
     "model_name": "DescriptionStyleModel",
     "state": {
      "_model_module": "@jupyter-widgets/controls",
      "_model_module_version": "1.5.0",
      "_model_name": "DescriptionStyleModel",
      "_view_count": null,
      "_view_module": "@jupyter-widgets/base",
      "_view_module_version": "1.2.0",
      "_view_name": "StyleView",
      "description_width": ""
     }
    },
    "18fe23899dea4e1a8cba8b961d917dcc": {
     "model_module": "@jupyter-widgets/controls",
     "model_module_version": "1.5.0",
     "model_name": "FloatProgressModel",
     "state": {
      "_dom_classes": [],
      "_model_module": "@jupyter-widgets/controls",
      "_model_module_version": "1.5.0",
      "_model_name": "FloatProgressModel",
      "_view_count": null,
      "_view_module": "@jupyter-widgets/controls",
      "_view_module_version": "1.5.0",
      "_view_name": "ProgressView",
      "bar_style": "",
      "description": "",
      "description_tooltip": null,
      "layout": "IPY_MODEL_70e7a943b98d454ea3c6641cfcca520e",
      "max": 4500,
      "min": 0,
      "orientation": "horizontal",
      "style": "IPY_MODEL_001fc3b687e3443780ca5187f940d4ae",
      "value": 0
     }
    },
    "1c93159b0ebe47fc9e20556a1cfe8356": {
     "model_module": "@jupyter-widgets/base",
     "model_module_version": "1.2.0",
     "model_name": "LayoutModel",
     "state": {
      "_model_module": "@jupyter-widgets/base",
      "_model_module_version": "1.2.0",
      "_model_name": "LayoutModel",
      "_view_count": null,
      "_view_module": "@jupyter-widgets/base",
      "_view_module_version": "1.2.0",
      "_view_name": "LayoutView",
      "align_content": null,
      "align_items": null,
      "align_self": null,
      "border": null,
      "bottom": null,
      "display": null,
      "flex": null,
      "flex_flow": null,
      "grid_area": null,
      "grid_auto_columns": null,
      "grid_auto_flow": null,
      "grid_auto_rows": null,
      "grid_column": null,
      "grid_gap": null,
      "grid_row": null,
      "grid_template_areas": null,
      "grid_template_columns": null,
      "grid_template_rows": null,
      "height": null,
      "justify_content": null,
      "justify_items": null,
      "left": null,
      "margin": null,
      "max_height": null,
      "max_width": null,
      "min_height": null,
      "min_width": null,
      "object_fit": null,
      "object_position": null,
      "order": null,
      "overflow": null,
      "overflow_x": null,
      "overflow_y": null,
      "padding": null,
      "right": null,
      "top": null,
      "visibility": null,
      "width": null
     }
    },
    "237d12de43814a6698cca492a9c95102": {
     "model_module": "@jupyter-widgets/controls",
     "model_module_version": "1.5.0",
     "model_name": "HBoxModel",
     "state": {
      "_dom_classes": [],
      "_model_module": "@jupyter-widgets/controls",
      "_model_module_version": "1.5.0",
      "_model_name": "HBoxModel",
      "_view_count": null,
      "_view_module": "@jupyter-widgets/controls",
      "_view_module_version": "1.5.0",
      "_view_name": "HBoxView",
      "box_style": "",
      "children": [
       "IPY_MODEL_fd90bafa7635404aaac03376f2f11413",
       "IPY_MODEL_695d3bc745ae468b8cdbb030c95b67eb",
       "IPY_MODEL_e90a070c443344689e7b985beaa29dd4"
      ],
      "layout": "IPY_MODEL_dcf08b3220d6475b8035bb08a66dd129"
     }
    },
    "2856b819aac044048ab2da8343da9fa2": {
     "model_module": "@jupyter-widgets/base",
     "model_module_version": "1.2.0",
     "model_name": "LayoutModel",
     "state": {
      "_model_module": "@jupyter-widgets/base",
      "_model_module_version": "1.2.0",
      "_model_name": "LayoutModel",
      "_view_count": null,
      "_view_module": "@jupyter-widgets/base",
      "_view_module_version": "1.2.0",
      "_view_name": "LayoutView",
      "align_content": null,
      "align_items": null,
      "align_self": null,
      "border": null,
      "bottom": null,
      "display": null,
      "flex": null,
      "flex_flow": null,
      "grid_area": null,
      "grid_auto_columns": null,
      "grid_auto_flow": null,
      "grid_auto_rows": null,
      "grid_column": null,
      "grid_gap": null,
      "grid_row": null,
      "grid_template_areas": null,
      "grid_template_columns": null,
      "grid_template_rows": null,
      "height": null,
      "justify_content": null,
      "justify_items": null,
      "left": null,
      "margin": null,
      "max_height": null,
      "max_width": null,
      "min_height": null,
      "min_width": null,
      "object_fit": null,
      "object_position": null,
      "order": null,
      "overflow": null,
      "overflow_x": null,
      "overflow_y": null,
      "padding": null,
      "right": null,
      "top": null,
      "visibility": null,
      "width": null
     }
    },
    "331a0349a99e4f208e52785eddba06f3": {
     "model_module": "@jupyter-widgets/base",
     "model_module_version": "1.2.0",
     "model_name": "LayoutModel",
     "state": {
      "_model_module": "@jupyter-widgets/base",
      "_model_module_version": "1.2.0",
      "_model_name": "LayoutModel",
      "_view_count": null,
      "_view_module": "@jupyter-widgets/base",
      "_view_module_version": "1.2.0",
      "_view_name": "LayoutView",
      "align_content": null,
      "align_items": null,
      "align_self": null,
      "border": null,
      "bottom": null,
      "display": null,
      "flex": null,
      "flex_flow": null,
      "grid_area": null,
      "grid_auto_columns": null,
      "grid_auto_flow": null,
      "grid_auto_rows": null,
      "grid_column": null,
      "grid_gap": null,
      "grid_row": null,
      "grid_template_areas": null,
      "grid_template_columns": null,
      "grid_template_rows": null,
      "height": null,
      "justify_content": null,
      "justify_items": null,
      "left": null,
      "margin": null,
      "max_height": null,
      "max_width": null,
      "min_height": null,
      "min_width": null,
      "object_fit": null,
      "object_position": null,
      "order": null,
      "overflow": null,
      "overflow_x": null,
      "overflow_y": null,
      "padding": null,
      "right": null,
      "top": null,
      "visibility": null,
      "width": null
     }
    },
    "371d7f4138af48dcb216683932188528": {
     "model_module": "@jupyter-widgets/controls",
     "model_module_version": "1.5.0",
     "model_name": "DescriptionStyleModel",
     "state": {
      "_model_module": "@jupyter-widgets/controls",
      "_model_module_version": "1.5.0",
      "_model_name": "DescriptionStyleModel",
      "_view_count": null,
      "_view_module": "@jupyter-widgets/base",
      "_view_module_version": "1.2.0",
      "_view_name": "StyleView",
      "description_width": ""
     }
    },
    "3a7bda2ba6a5425385b74f5e8e184aa8": {
     "model_module": "@jupyter-widgets/controls",
     "model_module_version": "1.5.0",
     "model_name": "HBoxModel",
     "state": {
      "_dom_classes": [],
      "_model_module": "@jupyter-widgets/controls",
      "_model_module_version": "1.5.0",
      "_model_name": "HBoxModel",
      "_view_count": null,
      "_view_module": "@jupyter-widgets/controls",
      "_view_module_version": "1.5.0",
      "_view_name": "HBoxView",
      "box_style": "",
      "children": [
       "IPY_MODEL_64f7da3cf4f54b6987996bf7c3abc715",
       "IPY_MODEL_7a01c22883f042ed9a7c26b937e6c4e5",
       "IPY_MODEL_40b69ef8f5be4cad97a976da4eee6b05"
      ],
      "layout": "IPY_MODEL_09d1b43bf8ae4d0bbad93411d429fc65"
     }
    },
    "40b69ef8f5be4cad97a976da4eee6b05": {
     "model_module": "@jupyter-widgets/controls",
     "model_module_version": "1.5.0",
     "model_name": "HTMLModel",
     "state": {
      "_dom_classes": [],
      "_model_module": "@jupyter-widgets/controls",
      "_model_module_version": "1.5.0",
      "_model_name": "HTMLModel",
      "_view_count": null,
      "_view_module": "@jupyter-widgets/controls",
      "_view_module_version": "1.5.0",
      "_view_name": "HTMLView",
      "description": "",
      "description_tooltip": null,
      "layout": "IPY_MODEL_ae90d892ad20429ca313a75a8d347224",
      "placeholder": "​",
      "style": "IPY_MODEL_13de949b03044a04805267f48a902d08",
      "value": " 0/4500 [00:09&lt;?, ?it/s]"
     }
    },
    "46819dc73bd4466d8d8bb5ead2d35a9e": {
     "model_module": "@jupyter-widgets/base",
     "model_module_version": "1.2.0",
     "model_name": "LayoutModel",
     "state": {
      "_model_module": "@jupyter-widgets/base",
      "_model_module_version": "1.2.0",
      "_model_name": "LayoutModel",
      "_view_count": null,
      "_view_module": "@jupyter-widgets/base",
      "_view_module_version": "1.2.0",
      "_view_name": "LayoutView",
      "align_content": null,
      "align_items": null,
      "align_self": null,
      "border": null,
      "bottom": null,
      "display": null,
      "flex": null,
      "flex_flow": null,
      "grid_area": null,
      "grid_auto_columns": null,
      "grid_auto_flow": null,
      "grid_auto_rows": null,
      "grid_column": null,
      "grid_gap": null,
      "grid_row": null,
      "grid_template_areas": null,
      "grid_template_columns": null,
      "grid_template_rows": null,
      "height": null,
      "justify_content": null,
      "justify_items": null,
      "left": null,
      "margin": null,
      "max_height": null,
      "max_width": null,
      "min_height": null,
      "min_width": null,
      "object_fit": null,
      "object_position": null,
      "order": null,
      "overflow": null,
      "overflow_x": null,
      "overflow_y": null,
      "padding": null,
      "right": null,
      "top": null,
      "visibility": null,
      "width": null
     }
    },
    "64f7da3cf4f54b6987996bf7c3abc715": {
     "model_module": "@jupyter-widgets/controls",
     "model_module_version": "1.5.0",
     "model_name": "HTMLModel",
     "state": {
      "_dom_classes": [],
      "_model_module": "@jupyter-widgets/controls",
      "_model_module_version": "1.5.0",
      "_model_name": "HTMLModel",
      "_view_count": null,
      "_view_module": "@jupyter-widgets/controls",
      "_view_module_version": "1.5.0",
      "_view_name": "HTMLView",
      "description": "",
      "description_tooltip": null,
      "layout": "IPY_MODEL_1c93159b0ebe47fc9e20556a1cfe8356",
      "placeholder": "​",
      "style": "IPY_MODEL_d8e2c493b3cc4fb78bae69961c51dd58",
      "value": "Running chain 2:   0%"
     }
    },
    "695d3bc745ae468b8cdbb030c95b67eb": {
     "model_module": "@jupyter-widgets/controls",
     "model_module_version": "1.5.0",
     "model_name": "FloatProgressModel",
     "state": {
      "_dom_classes": [],
      "_model_module": "@jupyter-widgets/controls",
      "_model_module_version": "1.5.0",
      "_model_name": "FloatProgressModel",
      "_view_count": null,
      "_view_module": "@jupyter-widgets/controls",
      "_view_module_version": "1.5.0",
      "_view_name": "ProgressView",
      "bar_style": "",
      "description": "",
      "description_tooltip": null,
      "layout": "IPY_MODEL_331a0349a99e4f208e52785eddba06f3",
      "max": 4500,
      "min": 0,
      "orientation": "horizontal",
      "style": "IPY_MODEL_731aab41f2df4967ad10470371d80553",
      "value": 0
     }
    },
    "6fb5adc022594fd3acfa5d50d6251f59": {
     "model_module": "@jupyter-widgets/base",
     "model_module_version": "1.2.0",
     "model_name": "LayoutModel",
     "state": {
      "_model_module": "@jupyter-widgets/base",
      "_model_module_version": "1.2.0",
      "_model_name": "LayoutModel",
      "_view_count": null,
      "_view_module": "@jupyter-widgets/base",
      "_view_module_version": "1.2.0",
      "_view_name": "LayoutView",
      "align_content": null,
      "align_items": null,
      "align_self": null,
      "border": null,
      "bottom": null,
      "display": null,
      "flex": null,
      "flex_flow": null,
      "grid_area": null,
      "grid_auto_columns": null,
      "grid_auto_flow": null,
      "grid_auto_rows": null,
      "grid_column": null,
      "grid_gap": null,
      "grid_row": null,
      "grid_template_areas": null,
      "grid_template_columns": null,
      "grid_template_rows": null,
      "height": null,
      "justify_content": null,
      "justify_items": null,
      "left": null,
      "margin": null,
      "max_height": null,
      "max_width": null,
      "min_height": null,
      "min_width": null,
      "object_fit": null,
      "object_position": null,
      "order": null,
      "overflow": null,
      "overflow_x": null,
      "overflow_y": null,
      "padding": null,
      "right": null,
      "top": null,
      "visibility": null,
      "width": null
     }
    },
    "70e7a943b98d454ea3c6641cfcca520e": {
     "model_module": "@jupyter-widgets/base",
     "model_module_version": "1.2.0",
     "model_name": "LayoutModel",
     "state": {
      "_model_module": "@jupyter-widgets/base",
      "_model_module_version": "1.2.0",
      "_model_name": "LayoutModel",
      "_view_count": null,
      "_view_module": "@jupyter-widgets/base",
      "_view_module_version": "1.2.0",
      "_view_name": "LayoutView",
      "align_content": null,
      "align_items": null,
      "align_self": null,
      "border": null,
      "bottom": null,
      "display": null,
      "flex": null,
      "flex_flow": null,
      "grid_area": null,
      "grid_auto_columns": null,
      "grid_auto_flow": null,
      "grid_auto_rows": null,
      "grid_column": null,
      "grid_gap": null,
      "grid_row": null,
      "grid_template_areas": null,
      "grid_template_columns": null,
      "grid_template_rows": null,
      "height": null,
      "justify_content": null,
      "justify_items": null,
      "left": null,
      "margin": null,
      "max_height": null,
      "max_width": null,
      "min_height": null,
      "min_width": null,
      "object_fit": null,
      "object_position": null,
      "order": null,
      "overflow": null,
      "overflow_x": null,
      "overflow_y": null,
      "padding": null,
      "right": null,
      "top": null,
      "visibility": null,
      "width": null
     }
    },
    "731aab41f2df4967ad10470371d80553": {
     "model_module": "@jupyter-widgets/controls",
     "model_module_version": "1.5.0",
     "model_name": "ProgressStyleModel",
     "state": {
      "_model_module": "@jupyter-widgets/controls",
      "_model_module_version": "1.5.0",
      "_model_name": "ProgressStyleModel",
      "_view_count": null,
      "_view_module": "@jupyter-widgets/base",
      "_view_module_version": "1.2.0",
      "_view_name": "StyleView",
      "bar_color": null,
      "description_width": ""
     }
    },
    "77cccecae73e4baf8751aa9ee1570825": {
     "model_module": "@jupyter-widgets/controls",
     "model_module_version": "1.5.0",
     "model_name": "ProgressStyleModel",
     "state": {
      "_model_module": "@jupyter-widgets/controls",
      "_model_module_version": "1.5.0",
      "_model_name": "ProgressStyleModel",
      "_view_count": null,
      "_view_module": "@jupyter-widgets/base",
      "_view_module_version": "1.2.0",
      "_view_name": "StyleView",
      "bar_color": null,
      "description_width": ""
     }
    },
    "7a01c22883f042ed9a7c26b937e6c4e5": {
     "model_module": "@jupyter-widgets/controls",
     "model_module_version": "1.5.0",
     "model_name": "FloatProgressModel",
     "state": {
      "_dom_classes": [],
      "_model_module": "@jupyter-widgets/controls",
      "_model_module_version": "1.5.0",
      "_model_name": "FloatProgressModel",
      "_view_count": null,
      "_view_module": "@jupyter-widgets/controls",
      "_view_module_version": "1.5.0",
      "_view_name": "ProgressView",
      "bar_style": "",
      "description": "",
      "description_tooltip": null,
      "layout": "IPY_MODEL_46819dc73bd4466d8d8bb5ead2d35a9e",
      "max": 4500,
      "min": 0,
      "orientation": "horizontal",
      "style": "IPY_MODEL_77cccecae73e4baf8751aa9ee1570825",
      "value": 0
     }
    },
    "ae90d892ad20429ca313a75a8d347224": {
     "model_module": "@jupyter-widgets/base",
     "model_module_version": "1.2.0",
     "model_name": "LayoutModel",
     "state": {
      "_model_module": "@jupyter-widgets/base",
      "_model_module_version": "1.2.0",
      "_model_name": "LayoutModel",
      "_view_count": null,
      "_view_module": "@jupyter-widgets/base",
      "_view_module_version": "1.2.0",
      "_view_name": "LayoutView",
      "align_content": null,
      "align_items": null,
      "align_self": null,
      "border": null,
      "bottom": null,
      "display": null,
      "flex": null,
      "flex_flow": null,
      "grid_area": null,
      "grid_auto_columns": null,
      "grid_auto_flow": null,
      "grid_auto_rows": null,
      "grid_column": null,
      "grid_gap": null,
      "grid_row": null,
      "grid_template_areas": null,
      "grid_template_columns": null,
      "grid_template_rows": null,
      "height": null,
      "justify_content": null,
      "justify_items": null,
      "left": null,
      "margin": null,
      "max_height": null,
      "max_width": null,
      "min_height": null,
      "min_width": null,
      "object_fit": null,
      "object_position": null,
      "order": null,
      "overflow": null,
      "overflow_x": null,
      "overflow_y": null,
      "padding": null,
      "right": null,
      "top": null,
      "visibility": null,
      "width": null
     }
    },
    "b3bf51c5e32a49ba87dc6e16ab282351": {
     "model_module": "@jupyter-widgets/controls",
     "model_module_version": "1.5.0",
     "model_name": "HTMLModel",
     "state": {
      "_dom_classes": [],
      "_model_module": "@jupyter-widgets/controls",
      "_model_module_version": "1.5.0",
      "_model_name": "HTMLModel",
      "_view_count": null,
      "_view_module": "@jupyter-widgets/controls",
      "_view_module_version": "1.5.0",
      "_view_name": "HTMLView",
      "description": "",
      "description_tooltip": null,
      "layout": "IPY_MODEL_be82f0480ac84de9b09c53ac82e1d90f",
      "placeholder": "​",
      "style": "IPY_MODEL_f5a62aa959a945c7a7f82299ec7f6b83",
      "value": " 0/4500 [00:09&lt;?, ?it/s]"
     }
    },
    "ba6986af15584e4998cf027e14907a91": {
     "model_module": "@jupyter-widgets/controls",
     "model_module_version": "1.5.0",
     "model_name": "DescriptionStyleModel",
     "state": {
      "_model_module": "@jupyter-widgets/controls",
      "_model_module_version": "1.5.0",
      "_model_name": "DescriptionStyleModel",
      "_view_count": null,
      "_view_module": "@jupyter-widgets/base",
      "_view_module_version": "1.2.0",
      "_view_name": "StyleView",
      "description_width": ""
     }
    },
    "be82f0480ac84de9b09c53ac82e1d90f": {
     "model_module": "@jupyter-widgets/base",
     "model_module_version": "1.2.0",
     "model_name": "LayoutModel",
     "state": {
      "_model_module": "@jupyter-widgets/base",
      "_model_module_version": "1.2.0",
      "_model_name": "LayoutModel",
      "_view_count": null,
      "_view_module": "@jupyter-widgets/base",
      "_view_module_version": "1.2.0",
      "_view_name": "LayoutView",
      "align_content": null,
      "align_items": null,
      "align_self": null,
      "border": null,
      "bottom": null,
      "display": null,
      "flex": null,
      "flex_flow": null,
      "grid_area": null,
      "grid_auto_columns": null,
      "grid_auto_flow": null,
      "grid_auto_rows": null,
      "grid_column": null,
      "grid_gap": null,
      "grid_row": null,
      "grid_template_areas": null,
      "grid_template_columns": null,
      "grid_template_rows": null,
      "height": null,
      "justify_content": null,
      "justify_items": null,
      "left": null,
      "margin": null,
      "max_height": null,
      "max_width": null,
      "min_height": null,
      "min_width": null,
      "object_fit": null,
      "object_position": null,
      "order": null,
      "overflow": null,
      "overflow_x": null,
      "overflow_y": null,
      "padding": null,
      "right": null,
      "top": null,
      "visibility": null,
      "width": null
     }
    },
    "c6c2bfc5ca1540fe80fdc5ba55f598ea": {
     "model_module": "@jupyter-widgets/controls",
     "model_module_version": "1.5.0",
     "model_name": "HBoxModel",
     "state": {
      "_dom_classes": [],
      "_model_module": "@jupyter-widgets/controls",
      "_model_module_version": "1.5.0",
      "_model_name": "HBoxModel",
      "_view_count": null,
      "_view_module": "@jupyter-widgets/controls",
      "_view_module_version": "1.5.0",
      "_view_name": "HBoxView",
      "box_style": "",
      "children": [
       "IPY_MODEL_ee928d161c0b4f11940b81a5ee318028",
       "IPY_MODEL_18fe23899dea4e1a8cba8b961d917dcc",
       "IPY_MODEL_b3bf51c5e32a49ba87dc6e16ab282351"
      ],
      "layout": "IPY_MODEL_2856b819aac044048ab2da8343da9fa2"
     }
    },
    "d187ca782da749938056cce3fecf664e": {
     "model_module": "@jupyter-widgets/controls",
     "model_module_version": "1.5.0",
     "model_name": "DescriptionStyleModel",
     "state": {
      "_model_module": "@jupyter-widgets/controls",
      "_model_module_version": "1.5.0",
      "_model_name": "DescriptionStyleModel",
      "_view_count": null,
      "_view_module": "@jupyter-widgets/base",
      "_view_module_version": "1.2.0",
      "_view_name": "StyleView",
      "description_width": ""
     }
    },
    "d8e2c493b3cc4fb78bae69961c51dd58": {
     "model_module": "@jupyter-widgets/controls",
     "model_module_version": "1.5.0",
     "model_name": "DescriptionStyleModel",
     "state": {
      "_model_module": "@jupyter-widgets/controls",
      "_model_module_version": "1.5.0",
      "_model_name": "DescriptionStyleModel",
      "_view_count": null,
      "_view_module": "@jupyter-widgets/base",
      "_view_module_version": "1.2.0",
      "_view_name": "StyleView",
      "description_width": ""
     }
    },
    "dcf08b3220d6475b8035bb08a66dd129": {
     "model_module": "@jupyter-widgets/base",
     "model_module_version": "1.2.0",
     "model_name": "LayoutModel",
     "state": {
      "_model_module": "@jupyter-widgets/base",
      "_model_module_version": "1.2.0",
      "_model_name": "LayoutModel",
      "_view_count": null,
      "_view_module": "@jupyter-widgets/base",
      "_view_module_version": "1.2.0",
      "_view_name": "LayoutView",
      "align_content": null,
      "align_items": null,
      "align_self": null,
      "border": null,
      "bottom": null,
      "display": null,
      "flex": null,
      "flex_flow": null,
      "grid_area": null,
      "grid_auto_columns": null,
      "grid_auto_flow": null,
      "grid_auto_rows": null,
      "grid_column": null,
      "grid_gap": null,
      "grid_row": null,
      "grid_template_areas": null,
      "grid_template_columns": null,
      "grid_template_rows": null,
      "height": null,
      "justify_content": null,
      "justify_items": null,
      "left": null,
      "margin": null,
      "max_height": null,
      "max_width": null,
      "min_height": null,
      "min_width": null,
      "object_fit": null,
      "object_position": null,
      "order": null,
      "overflow": null,
      "overflow_x": null,
      "overflow_y": null,
      "padding": null,
      "right": null,
      "top": null,
      "visibility": null,
      "width": null
     }
    },
    "e90a070c443344689e7b985beaa29dd4": {
     "model_module": "@jupyter-widgets/controls",
     "model_module_version": "1.5.0",
     "model_name": "HTMLModel",
     "state": {
      "_dom_classes": [],
      "_model_module": "@jupyter-widgets/controls",
      "_model_module_version": "1.5.0",
      "_model_name": "HTMLModel",
      "_view_count": null,
      "_view_module": "@jupyter-widgets/controls",
      "_view_module_version": "1.5.0",
      "_view_name": "HTMLView",
      "description": "",
      "description_tooltip": null,
      "layout": "IPY_MODEL_6fb5adc022594fd3acfa5d50d6251f59",
      "placeholder": "​",
      "style": "IPY_MODEL_ba6986af15584e4998cf027e14907a91",
      "value": " 0/4500 [00:09&lt;?, ?it/s]"
     }
    },
    "ee928d161c0b4f11940b81a5ee318028": {
     "model_module": "@jupyter-widgets/controls",
     "model_module_version": "1.5.0",
     "model_name": "HTMLModel",
     "state": {
      "_dom_classes": [],
      "_model_module": "@jupyter-widgets/controls",
      "_model_module_version": "1.5.0",
      "_model_name": "HTMLModel",
      "_view_count": null,
      "_view_module": "@jupyter-widgets/controls",
      "_view_module_version": "1.5.0",
      "_view_name": "HTMLView",
      "description": "",
      "description_tooltip": null,
      "layout": "IPY_MODEL_0162f561f17a42e09537b2dcbf393dc8",
      "placeholder": "​",
      "style": "IPY_MODEL_371d7f4138af48dcb216683932188528",
      "value": "Running chain 1:   0%"
     }
    },
    "f138a90ab1764382a7ce259c8b22543f": {
     "model_module": "@jupyter-widgets/base",
     "model_module_version": "1.2.0",
     "model_name": "LayoutModel",
     "state": {
      "_model_module": "@jupyter-widgets/base",
      "_model_module_version": "1.2.0",
      "_model_name": "LayoutModel",
      "_view_count": null,
      "_view_module": "@jupyter-widgets/base",
      "_view_module_version": "1.2.0",
      "_view_name": "LayoutView",
      "align_content": null,
      "align_items": null,
      "align_self": null,
      "border": null,
      "bottom": null,
      "display": null,
      "flex": null,
      "flex_flow": null,
      "grid_area": null,
      "grid_auto_columns": null,
      "grid_auto_flow": null,
      "grid_auto_rows": null,
      "grid_column": null,
      "grid_gap": null,
      "grid_row": null,
      "grid_template_areas": null,
      "grid_template_columns": null,
      "grid_template_rows": null,
      "height": null,
      "justify_content": null,
      "justify_items": null,
      "left": null,
      "margin": null,
      "max_height": null,
      "max_width": null,
      "min_height": null,
      "min_width": null,
      "object_fit": null,
      "object_position": null,
      "order": null,
      "overflow": null,
      "overflow_x": null,
      "overflow_y": null,
      "padding": null,
      "right": null,
      "top": null,
      "visibility": null,
      "width": null
     }
    },
    "f5a62aa959a945c7a7f82299ec7f6b83": {
     "model_module": "@jupyter-widgets/controls",
     "model_module_version": "1.5.0",
     "model_name": "DescriptionStyleModel",
     "state": {
      "_model_module": "@jupyter-widgets/controls",
      "_model_module_version": "1.5.0",
      "_model_name": "DescriptionStyleModel",
      "_view_count": null,
      "_view_module": "@jupyter-widgets/base",
      "_view_module_version": "1.2.0",
      "_view_name": "StyleView",
      "description_width": ""
     }
    },
    "fd90bafa7635404aaac03376f2f11413": {
     "model_module": "@jupyter-widgets/controls",
     "model_module_version": "1.5.0",
     "model_name": "HTMLModel",
     "state": {
      "_dom_classes": [],
      "_model_module": "@jupyter-widgets/controls",
      "_model_module_version": "1.5.0",
      "_model_name": "HTMLModel",
      "_view_count": null,
      "_view_module": "@jupyter-widgets/controls",
      "_view_module_version": "1.5.0",
      "_view_name": "HTMLView",
      "description": "",
      "description_tooltip": null,
      "layout": "IPY_MODEL_f138a90ab1764382a7ce259c8b22543f",
      "placeholder": "​",
      "style": "IPY_MODEL_d187ca782da749938056cce3fecf664e",
      "value": "Running chain 0:   0%"
     }
    }
   }
  }
 },
 "nbformat": 4,
 "nbformat_minor": 5
}
