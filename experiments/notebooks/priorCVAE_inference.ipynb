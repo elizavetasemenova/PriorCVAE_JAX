{
 "cells": [
  {
   "cell_type": "code",
   "execution_count": 1,
   "id": "ae1a9f47",
   "metadata": {},
   "outputs": [],
   "source": [
    "import random as rnd\n",
    "import os\n",
    "import time\n",
    "import yaml\n",
    "\n",
    "import pickle\n",
    "import numpy as np \n",
    "import matplotlib.pyplot as plt\n",
    "import numpyro\n",
    "from numpyro.infer import Predictive\n",
    "from numpyro.diagnostics import hpdi\n",
    "numpyro.set_host_device_count(4)\n",
    "import jax\n",
    "import optax\n",
    "from jax import random\n",
    "import jax.numpy as jnp\n",
    "import flax.linen as nn\n",
    "import numpyro.distributions as npdist\n",
    "from numpyro.infer import init_to_median, MCMC, NUTS\n",
    "\n",
    "from priorCVAE.models import MLPDecoder\n",
    "from priorCVAE.mcmc import run_mcmc_vae, vae_mcmc_inference_model, run_mcmc_gp, gp_mcmc_inference_model\n",
    "from priorCVAE.priors import SquaredExponential, Matern52, GP\n",
    "import priorCVAE.priors as priors\n",
    "from priorCVAE.utility import load_model_params\n",
    "\n",
    "import jax.config as config\n",
    "config.update(\"jax_enable_x64\", True)"
   ]
  },
  {
   "cell_type": "code",
   "execution_count": 2,
   "id": "6633eee9",
   "metadata": {},
   "outputs": [],
   "source": [
    "# vae_model = \"3tgjr5mg\", cvae_model=\"qa1qdmjd\"\n",
    "\n",
    "vae_model_dir = \"../arc_outputs/gp/3tgjr5mg/\"\n",
    "output_dir = \"output_tex/\"\n",
    "\n",
    "true_ls = 0.3\n",
    "kernel = Matern52()\n",
    "\n",
    "x0 = 0\n",
    "x1 = 1\n",
    "n_data = 80"
   ]
  },
  {
   "cell_type": "code",
   "execution_count": 3,
   "id": "a2bc1a14",
   "metadata": {},
   "outputs": [],
   "source": [
    "mcmc_args = {\n",
    "        \"num_warmup\": 5000,\n",
    "        \"num_mcmc_samples\": 50000,\n",
    "        \"num_chains\": 3,\n",
    "        \"thinning\": 1,\n",
    "       }"
   ]
  },
  {
   "cell_type": "code",
   "execution_count": 4,
   "id": "ca268ea7",
   "metadata": {},
   "outputs": [],
   "source": [
    "x = jnp.linspace(x0, x1, n_data) \n",
    "mcmc_args[\"x\"] = x"
   ]
  },
  {
   "cell_type": "markdown",
   "id": "197813d0",
   "metadata": {},
   "source": [
    "## Generate data for MCMC"
   ]
  },
  {
   "cell_type": "code",
   "execution_count": 5,
   "id": "0b9cde94",
   "metadata": {},
   "outputs": [
    {
     "data": {
      "image/png": "[encoded data removed]",
      "text/plain": [
       "<Figure size 640x480 with 1 Axes>"
      ]
     },
     "metadata": {},
     "output_type": "display_data"
    }
   ],
   "source": [
    "rng_key = random.PRNGKey(833)\n",
    "rng_key_1, rng_key_2 = random.split(rng_key, 2)\n",
    "\n",
    "kernel.lengthscale = true_ls\n",
    "gp_predictive = Predictive(GP, num_samples=1)\n",
    "draws = gp_predictive(rng_key_1, kernel=kernel, x=x, jitter=1e-6, noise=True)\n",
    "\n",
    "gp_draw = draws['f'].T\n",
    "y_draw = draws['y'].T\n",
    "\n",
    "# indices of data points\n",
    "obs_idx = jnp.array([10, 30, 54, 64])\n",
    "y_obs = y_draw[obs_idx,0]\n",
    "x_obs = x[np.array(obs_idx)]\n",
    "\n",
    "# plt.figure(figsize=(10, 3))\n",
    "plt.plot(x, gp_draw, label=\"ground truth\", color=\"orange\")\n",
    "plt.scatter(x_obs, y_obs, color=\"red\", label=\"observed data\", s=60)\n",
    "plt.title('Ground truth, corresponds to $ls$=' + str(true_ls))\n",
    "plt.show()\n"
   ]
  },
  {
   "cell_type": "code",
   "execution_count": 6,
   "id": "d6af0baf",
   "metadata": {},
   "outputs": [],
   "source": [
    "# add data to args. This is used by MCMC.\n",
    "mcmc_args[\"y_obs\"] = y_obs\n",
    "mcmc_args[\"obs_idx\"] = obs_idx"
   ]
  },
  {
   "cell_type": "markdown",
   "id": "479c1ab7",
   "metadata": {},
   "source": [
    "## Load Prior{C}VAE model"
   ]
  },
  {
   "cell_type": "code",
   "execution_count": 7,
   "id": "daff02fb",
   "metadata": {},
   "outputs": [],
   "source": [
    "cfg_path = os.path.join(vae_model_dir, \"files\", \"config.yaml\")\n",
    "with open(cfg_path, 'r') as file:\n",
    "    cfg_data = yaml.safe_load(file)\n",
    "\n",
    "latent_dim = cfg_data[\"latent_dim\"][\"value\"]\n",
    "conditional = cfg_data[\"conditional\"][\"value\"]\n",
    "dec_activation_fn = cfg_data[\"dec_activation\"][\"value\"][\"_target_\"]\n",
    "dec_activation_fn = getattr(nn, dec_activation_fn.split(\".\")[-1])\n",
    "kernel_vae = getattr(priors, cfg_data[\"data_generator\"][\"value\"][\"kernel\"][\"_target_\"].split(\".\")[-1])"
   ]
  },
  {
   "cell_type": "code",
   "execution_count": 8,
   "id": "aba6808e",
   "metadata": {},
   "outputs": [
    {
     "data": {
      "text/plain": [
       "(priorCVAE.priors.kernels.Matern52, False)"
      ]
     },
     "execution_count": 8,
     "metadata": {},
     "output_type": "execute_result"
    }
   ],
   "source": [
    "kernel_vae, conditional"
   ]
  },
  {
   "cell_type": "code",
   "execution_count": 9,
   "id": "70892080",
   "metadata": {},
   "outputs": [],
   "source": [
    "trained_decoder_params = load_model_params(os.path.join(vae_model_dir, \"model\"))[\"decoder\"]"
   ]
  },
  {
   "cell_type": "code",
   "execution_count": 10,
   "id": "44059ae1",
   "metadata": {},
   "outputs": [],
   "source": [
    "output_dim = trained_decoder_params[\"dec_out\"][\"bias\"].shape[0]\n",
    "hidden_dim = trained_decoder_params[\"dec_hidden_0\"][\"bias\"].shape[0]\n",
    "decoder = MLPDecoder(hidden_dim=hidden_dim, out_dim=output_dim, activations=dec_activation_fn)"
   ]
  },
  {
   "cell_type": "markdown",
   "id": "d48c7550",
   "metadata": {},
   "source": [
    "## Run MCMC inference"
   ]
  },
  {
   "cell_type": "code",
   "execution_count": 11,
   "id": "a52acd5a",
   "metadata": {},
   "outputs": [],
   "source": [
    "mcmc_args[\"latent_dim\"] = latent_dim"
   ]
  },
  {
   "cell_type": "code",
   "execution_count": 12,
   "id": "f88a0bb6",
   "metadata": {},
   "outputs": [],
   "source": [
    "rng_key_1, rng_key_2 = random.split(rng_key_2, 2)"
   ]
  },
  {
   "cell_type": "code",
   "execution_count": 13,
   "id": "77ff8bec",
   "metadata": {},
   "outputs": [
    {
     "data": {
      "application/vnd.jupyter.widget-view+json": {
       "model_id": "6e8daa4558af4a4d9280131333e35522",
       "version_major": 2,
       "version_minor": 0
      },
      "text/plain": [
       "  0%|          | 0/55000 [00:00<?, ?it/s]"
      ]
     },
     "metadata": {},
     "output_type": "display_data"
    },
    {
     "data": {
      "application/vnd.jupyter.widget-view+json": {
       "model_id": "801503636df5423eb73b8ff89f6b5052",
       "version_major": 2,
       "version_minor": 0
      },
      "text/plain": [
       "  0%|          | 0/55000 [00:00<?, ?it/s]"
      ]
     },
     "metadata": {},
     "output_type": "display_data"
    },
    {
     "data": {
      "application/vnd.jupyter.widget-view+json": {
       "model_id": "edd7d2bb4fa1481f9e4064575a413863",
       "version_major": 2,
       "version_minor": 0
      },
      "text/plain": [
       "  0%|          | 0/55000 [00:00<?, ?it/s]"
      ]
     },
     "metadata": {},
     "output_type": "display_data"
    },
    {
     "name": "stdout",
     "output_type": "stream",
     "text": [
      "\n",
      "                mean       std    median      5.0%     95.0%     n_eff     r_hat\n",
      "      f[0]     -0.24      0.30     -0.20     -0.74      0.22   2612.09      1.00\n",
      "      f[1]     -0.26      0.31     -0.22     -0.76      0.22   2696.04      1.00\n",
      "      f[2]     -0.27      0.30     -0.24     -0.75      0.21   2788.25      1.00\n",
      "      f[3]     -0.29      0.29     -0.26     -0.78      0.15   2896.87      1.00\n",
      "      f[4]     -0.30      0.27     -0.27     -0.75      0.12   3005.83      1.00\n",
      "      f[5]     -0.31      0.24     -0.29     -0.72      0.06   3175.46      1.00\n",
      "      f[6]     -0.32      0.21     -0.30     -0.68      0.01   3547.55      1.00\n",
      "      f[7]     -0.33      0.18     -0.31     -0.62     -0.04   4153.87      1.00\n",
      "      f[8]     -0.33      0.15     -0.32     -0.58     -0.10   6528.41      1.00\n",
      "      f[9]     -0.34      0.12     -0.33     -0.54     -0.14  22030.61      1.00\n",
      "     f[10]     -0.35      0.11     -0.35     -0.53     -0.17 176344.56      1.00\n",
      "     f[11]     -0.35      0.12     -0.36     -0.54     -0.16  23093.74      1.00\n",
      "     f[12]     -0.36      0.14     -0.37     -0.58     -0.13   6733.81      1.00\n",
      "     f[13]     -0.37      0.17     -0.38     -0.63     -0.09   4270.67      1.00\n",
      "     f[14]     -0.37      0.20     -0.39     -0.69     -0.06   3592.00      1.00\n",
      "     f[15]     -0.38      0.23     -0.40     -0.74     -0.02   3273.29      1.00\n",
      "     f[16]     -0.39      0.25     -0.41     -0.79      0.01   3093.77      1.00\n",
      "     f[17]     -0.39      0.27     -0.41     -0.82      0.03   2976.85      1.00\n",
      "     f[18]     -0.39      0.28     -0.42     -0.86      0.03   2952.52      1.00\n",
      "     f[19]     -0.40      0.29     -0.42     -0.87      0.05   2875.52      1.00\n",
      "     f[20]     -0.40      0.29     -0.42     -0.86      0.06   2818.52      1.00\n",
      "     f[21]     -0.40      0.28     -0.42     -0.85      0.05   2766.89      1.00\n",
      "     f[22]     -0.40      0.27     -0.42     -0.84      0.02   2710.74      1.00\n",
      "     f[23]     -0.39      0.26     -0.41     -0.81      0.01   2703.65      1.00\n",
      "     f[24]     -0.38      0.23     -0.40     -0.76     -0.00   2800.13      1.00\n",
      "     f[25]     -0.36      0.21     -0.39     -0.70     -0.02   2810.73      1.00\n",
      "     f[26]     -0.34      0.19     -0.37     -0.64     -0.03   2974.46      1.00\n",
      "     f[27]     -0.32      0.16     -0.34     -0.58     -0.05   3501.51      1.00\n",
      "     f[28]     -0.29      0.14     -0.31     -0.51     -0.06   5085.72      1.00\n",
      "     f[29]     -0.26      0.12     -0.28     -0.44     -0.05  15631.98      1.00\n",
      "     f[30]     -0.21      0.12     -0.23     -0.39     -0.02  74982.10      1.00\n",
      "     f[31]     -0.17      0.12     -0.18     -0.36      0.02  53466.07      1.00\n",
      "     f[32]     -0.12      0.13     -0.13     -0.34      0.10  14701.91      1.00\n",
      "     f[33]     -0.07      0.15     -0.06     -0.31      0.19   7398.57      1.00\n",
      "     f[34]     -0.00      0.17      0.00     -0.28      0.28   4846.60      1.00\n",
      "     f[35]      0.06      0.19      0.07     -0.24      0.38   3313.89      1.00\n",
      "     f[36]      0.13      0.21      0.14     -0.20      0.50   2674.91      1.00\n",
      "     f[37]      0.21      0.23      0.22     -0.17      0.60   2215.93      1.00\n",
      "     f[38]      0.28      0.25      0.29     -0.13      0.69   1980.09      1.00\n",
      "     f[39]      0.34      0.27      0.36     -0.09      0.79   1793.86      1.00\n",
      "     f[40]      0.41      0.28      0.43     -0.04      0.87   1704.06      1.00\n",
      "     f[41]      0.49      0.29      0.50      0.02      0.95   1628.15      1.00\n",
      "     f[42]      0.55      0.29      0.56      0.08      1.02   1571.32      1.00\n",
      "     f[43]      0.61      0.29      0.62      0.13      1.08   1536.83      1.00\n",
      "     f[44]      0.67      0.29      0.67      0.19      1.12   1505.68      1.00\n",
      "     f[45]      0.72      0.28      0.72      0.24      1.15   1517.19      1.00\n",
      "     f[46]      0.76      0.27      0.76      0.30      1.18   1528.33      1.00\n",
      "     f[47]      0.80      0.26      0.81      0.37      1.21   1557.13      1.00\n",
      "     f[48]      0.84      0.24      0.84      0.42      1.20   1626.38      1.00\n",
      "     f[49]      0.86      0.22      0.87      0.49      1.21   1684.51      1.00\n",
      "     f[50]      0.87      0.20      0.89      0.53      1.18   1841.32      1.00\n",
      "     f[51]      0.88      0.18      0.91      0.58      1.16   2163.38      1.00\n",
      "     f[52]      0.89      0.16      0.92      0.61      1.13   2928.19      1.00\n",
      "     f[53]      0.89      0.15      0.92      0.63      1.09   4434.81      1.00\n",
      "     f[54]      0.88      0.14      0.92      0.65      1.06   9435.47      1.00\n",
      "     f[55]      0.86      0.13      0.89      0.65      1.05  20831.61      1.00\n",
      "     f[56]      0.84      0.12      0.85      0.64      1.03  23178.62      1.00\n",
      "     f[57]      0.80      0.12      0.81      0.61      1.00  16931.82      1.00\n",
      "     f[58]      0.77      0.12      0.77      0.58      0.96  11339.91      1.00\n",
      "     f[59]      0.72      0.12      0.72      0.54      0.92   7886.61      1.00\n",
      "     f[60]      0.68      0.12      0.68      0.49      0.87   6085.33      1.00\n",
      "     f[61]      0.62      0.11      0.62      0.45      0.81   5582.89      1.00\n",
      "     f[62]      0.57      0.11      0.57      0.40      0.75   6707.55      1.00\n",
      "     f[63]      0.52      0.11      0.51      0.35      0.70  13092.28      1.00\n",
      "     f[64]      0.46      0.12      0.44      0.29      0.66  33616.42      1.00\n",
      "     f[65]      0.41      0.13      0.39      0.21      0.63  26172.77      1.00\n",
      "     f[66]      0.35      0.16      0.34      0.10      0.62  15361.81      1.00\n",
      "     f[67]      0.30      0.20      0.30     -0.03      0.61   9228.95      1.00\n",
      "     f[68]      0.24      0.24      0.25     -0.18      0.59   6657.41      1.00\n",
      "     f[69]      0.19      0.29      0.20     -0.27      0.65   5276.08      1.00\n",
      "     f[70]      0.14      0.33      0.16     -0.40      0.66   4538.49      1.00\n",
      "     f[71]      0.10      0.38      0.12     -0.51      0.68   4034.39      1.00\n",
      "     f[72]      0.06      0.42      0.09     -0.61      0.70   3790.17      1.00\n",
      "     f[73]      0.03      0.45      0.06     -0.68      0.75   3578.41      1.00\n",
      "     f[74]      0.00      0.48      0.03     -0.75      0.77   3442.77      1.00\n",
      "     f[75]     -0.02      0.50      0.01     -0.81      0.77   3335.41      1.00\n",
      "     f[76]     -0.03      0.52     -0.00     -0.85      0.77   3233.54      1.00\n",
      "     f[77]     -0.05      0.52     -0.02     -0.86      0.77   3167.78      1.00\n",
      "     f[78]     -0.05      0.51     -0.03     -0.87      0.75   3157.37      1.00\n",
      "     f[79]     -0.05      0.50     -0.04     -0.83      0.74   3157.57      1.00\n",
      "     sigma      0.10      0.07      0.08      0.01      0.19    537.89      1.00\n",
      "      z[0]     -0.79      0.24     -0.79     -1.16     -0.40   4538.22      1.00\n",
      "      z[1]     -0.00      0.99     -0.02     -1.65      1.60   1892.50      1.00\n",
      "      z[2]     -0.07      1.02     -0.08     -1.74      1.57    597.41      1.00\n",
      "      z[3]     -0.02      0.99     -0.03     -1.58      1.66   2191.96      1.00\n",
      "      z[4]     -0.00      0.99     -0.00     -1.60      1.64   3930.93      1.00\n",
      "      z[5]      0.01      1.01     -0.02     -1.67      1.66   1080.21      1.00\n",
      "      z[6]      0.07      1.08      0.03     -1.74      1.72    166.45      1.01\n",
      "      z[7]     -0.00      1.00      0.02     -1.67      1.68   1191.04      1.00\n",
      "      z[8]     -0.02      1.00     -0.04     -1.61      1.67   1586.14      1.00\n",
      "      z[9]      1.57      0.58      1.69      0.70      2.40   3533.06      1.00\n",
      "     z[10]     -0.00      0.99     -0.01     -1.63      1.64   4261.85      1.00\n",
      "     z[11]     -0.00      1.02     -0.01     -1.63      1.73    566.22      1.01\n",
      "     z[12]      0.04      1.00      0.04     -1.67      1.59   1090.90      1.00\n",
      "     z[13]     -0.02      0.99      0.00     -1.63      1.62   4192.75      1.00\n",
      "     z[14]      0.02      0.99      0.04     -1.63      1.61   2970.26      1.00\n",
      "     z[15]      0.07      1.00      0.08     -1.52      1.74   1921.80      1.00\n",
      "     z[16]     -0.01      0.98     -0.03     -1.62      1.62   9051.66      1.00\n",
      "     z[17]      0.13      1.08      0.08     -1.63      1.91   1386.92      1.00\n",
      "     z[18]     -0.02      0.98     -0.04     -1.60      1.60   1881.31      1.00\n",
      "     z[19]      0.05      1.01      0.04     -1.57      1.79   1176.83      1.00\n",
      "     z[20]     -0.03      0.99     -0.05     -1.62      1.62   3001.72      1.00\n",
      "     z[21]      0.04      1.03      0.03     -1.64      1.80    452.16      1.01\n",
      "     z[22]      0.03      0.99      0.05     -1.60      1.67   3353.78      1.00\n",
      "     z[23]     -0.00      0.99      0.00     -1.64      1.64   3997.44      1.00\n",
      "     z[24]      0.05      0.99      0.06     -1.56      1.70   2515.65      1.00\n",
      "     z[25]     -0.04      1.00     -0.05     -1.66      1.60    862.70      1.00\n",
      "     z[26]     -0.83      0.37     -0.90     -1.35     -0.24  20867.48      1.00\n",
      "     z[27]     -0.02      1.00      0.01     -1.70      1.62   1328.12      1.00\n",
      "     z[28]     -0.45      1.04     -0.44     -2.14      1.29   3244.12      1.00\n",
      "     z[29]      0.03      1.00      0.05     -1.60      1.66   1346.87      1.00\n",
      "     z[30]      0.03      1.03      0.02     -1.72      1.68    569.88      1.01\n",
      "     z[31]     -0.00      0.98      0.01     -1.62      1.59   4882.78      1.00\n",
      "     z[32]     -0.03      0.99     -0.04     -1.63      1.67   4608.29      1.00\n",
      "     z[33]     -0.01      1.01     -0.02     -1.64      1.63   1194.47      1.00\n",
      "     z[34]      0.19      0.14      0.19     -0.04      0.40   3705.20      1.00\n",
      "     z[35]     -0.05      1.00     -0.05     -1.66      1.58   1128.65      1.00\n",
      "     z[36]      0.03      1.01      0.03     -1.74      1.62   1074.55      1.00\n",
      "     z[37]      0.00      1.00      0.01     -1.67      1.61   2745.56      1.00\n",
      "     z[38]      0.02      0.98      0.05     -1.62      1.59   1385.22      1.00\n",
      "     z[39]     -0.02      0.98     -0.01     -1.63      1.58   5825.72      1.00\n",
      "\n",
      "Number of divergences: 18483\n",
      "\n",
      "MCMC elapsed time: 6 s\n"
     ]
    },
    {
     "name": "stdout",
     "output_type": "stream",
     "text": [
      "Average ESS for all VAE-GP effects : 9673\n"
     ]
    }
   ],
   "source": [
    "mcmc_vae, mcmc_vae_samples, t_elapsed = run_mcmc_vae(rng_key_1, vae_mcmc_inference_model, mcmc_args, decoder, \n",
    "                                                     trained_decoder_params, conditional=conditional)"
   ]
  },
  {
   "cell_type": "code",
   "execution_count": 14,
   "id": "b679f4b5",
   "metadata": {},
   "outputs": [
    {
     "data": {
      "text/plain": [
       "Text(0.5, 1.0, 'PriorCVAE inference')"
      ]
     },
     "execution_count": 14,
     "metadata": {},
     "output_type": "execute_result"
    },
    {
     "data": {
      "image/png": "[encoded data removed]",
      "text/plain": [
       "<Figure size 640x480 with 1 Axes>"
      ]
     },
     "metadata": {},
     "output_type": "display_data"
    }
   ],
   "source": [
    "predictions_vae = mcmc_vae_samples[\"f\"]\n",
    "\n",
    "mean_post_pred_vae = jnp.mean(predictions_vae, axis=0)\n",
    "hpdi_post_pred_vae = hpdi(predictions_vae, 0.9)\n",
    "percentiles_vae = np.percentile(predictions_vae, [5.0, 95.0], axis=0)\n",
    "\n",
    "N_lines = 10\n",
    "\n",
    "# plt.figure(figsize=(10, 3))\n",
    "plt.plot(x, gp_draw, label=\"ground truth\", color=\"orange\")\n",
    "plt.scatter(x_obs, y_obs, color=\"red\", label=\"observed data\", s=60)\n",
    "plt.title('Ground truth, corresponds to $ls$=' + str(true_ls))\n",
    "\n",
    "plt.plot(x, mean_post_pred_vae, label=\"predicted mean VAE\")\n",
    "plt.fill_between(x, percentiles_vae[0, :], percentiles_vae[1, :], alpha=0.3, interpolate=True, \n",
    "                 label=\"VAE posterior: 90% BCI\")\n",
    "\n",
    "y_min = min(np.concatenate([y_obs, mean_post_pred_vae, percentiles_vae[0, :]]))\n",
    "y_max = max(np.concatenate([y_obs, mean_post_pred_vae, percentiles_vae[1, :]]))\n",
    "\n",
    "plt.ylim([y_min, y_max])\n",
    "\n",
    "plt.title('PriorCVAE inference')"
   ]
  },
  {
   "cell_type": "code",
   "execution_count": 17,
   "id": "97b2e419",
   "metadata": {},
   "outputs": [],
   "source": [
    "if conditional:\n",
    "    c_samps = mcmc_vae_samples['c'].reshape((-1,))\n",
    "    plt.hist(c_samps, density=True, label = 'PriorCVAE', bins=20, color='#ff7f0e', alpha=0.5)\n",
    "    plt.vlines(true_ls, 0, 10, color=\"black\")\n",
    "\n",
    "    plt.ylim([0, 6])\n",
    "    plt.show()\n",
    "else:\n",
    "    c_samps = None"
   ]
  },
  {
   "cell_type": "code",
   "execution_count": 18,
   "id": "5855dda6",
   "metadata": {},
   "outputs": [
    {
     "name": "stdout",
     "output_type": "stream",
     "text": [
      "Average ESS for all VAE-GP effects : 9673\n"
     ]
    }
   ],
   "source": [
    "ss = numpyro.diagnostics.summary(mcmc_vae.get_samples(group_by_chain=True))\n",
    "r = np.mean(ss['f']['n_eff'])\n",
    "print(\"Average ESS for all VAE-GP effects : \" + str(round(r)))"
   ]
  },
  {
   "cell_type": "markdown",
   "id": "e304b629",
   "metadata": {},
   "source": [
    "## Saving"
   ]
  },
  {
   "cell_type": "code",
   "execution_count": 19,
   "id": "5544c957",
   "metadata": {},
   "outputs": [],
   "source": [
    "# gp_draw, y_draw, obs_idx, x, true_ls, mcmc_vae_samples, t_elapsed\n",
    "if conditional:\n",
    "    subdir_name = \"PriorCVAE_MCMC\"\n",
    "else:\n",
    "    subdir_name = \"PriorVAE_MCMC\"\n",
    "\n",
    "output_mcmc_dir = os.path.join(output_dir, subdir_name)\n",
    "\n",
    "if not os.path.exists(output_mcmc_dir):\n",
    "    os.makedirs(output_mcmc_dir)\n",
    "\n",
    "np.savez(os.path.join(output_mcmc_dir, \"mcmc_stats.npz\"), gp_draw=gp_draw, y_draw=y_draw, obs_idx=obs_idx, x=x,\n",
    "        true_ls=true_ls, t_elapsed=t_elapsed, ess=r)"
   ]
  },
  {
   "cell_type": "code",
   "execution_count": 20,
   "id": "935db847",
   "metadata": {},
   "outputs": [],
   "source": [
    "with open(os.path.join(output_mcmc_dir, \"mcmc_samples.pkl\"), 'wb') as f:\n",
    "    pickle.dump(mcmc_vae_samples, f)"
   ]
  },
  {
   "cell_type": "code",
   "execution_count": null,
   "id": "4bd164c7",
   "metadata": {},
   "outputs": [],
   "source": []
  }
 ],
 "metadata": {
  "kernelspec": {
   "display_name": "Python 3 (ipykernel)",
   "language": "python",
   "name": "python3"
  },
  "language_info": {
   "codemirror_mode": {
    "name": "ipython",
    "version": 3
   },
   "file_extension": ".py",
   "mimetype": "text/x-python",
   "name": "python",
   "nbconvert_exporter": "python",
   "pygments_lexer": "ipython3",
   "version": "3.10.1"
  }
 },
 "nbformat": 4,
 "nbformat_minor": 5
}
