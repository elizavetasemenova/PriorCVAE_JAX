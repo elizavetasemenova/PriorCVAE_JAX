{
 "cells": [
  {
   "cell_type": "code",
   "execution_count": 1,
   "id": "ae1a9f47",
   "metadata": {},
   "outputs": [],
   "source": [
    "import random as rnd\n",
    "import os\n",
    "import time\n",
    "import yaml\n",
    "\n",
    "import pickle\n",
    "import numpy as np \n",
    "import matplotlib.pyplot as plt\n",
    "import numpyro\n",
    "from numpyro.infer import Predictive\n",
    "from numpyro.diagnostics import hpdi\n",
    "numpyro.set_host_device_count(4)\n",
    "import jax\n",
    "import optax\n",
    "from jax import random\n",
    "import jax.numpy as jnp\n",
    "import flax.linen as nn\n",
    "import numpyro.distributions as npdist\n",
    "from numpyro.infer import init_to_median, MCMC, NUTS\n",
    "\n",
    "from priorCVAE.models import MLPDecoder\n",
    "from priorCVAE.mcmc import run_mcmc_vae, vae_mcmc_inference_model, run_mcmc_gp, gp_mcmc_inference_model\n",
    "from priorCVAE.priors import SquaredExponential, Matern52, GP\n",
    "import priorCVAE.priors as priors\n",
    "from priorCVAE.utility import load_model_params\n",
    "\n",
    "import jax.config as config\n",
    "config.update(\"jax_enable_x64\", True)"
   ]
  },
  {
   "cell_type": "code",
   "execution_count": 18,
   "id": "6633eee9",
   "metadata": {},
   "outputs": [],
   "source": [
    "# Matern52 vae_model = \"3tgjr5mg\", cvae_model=\"qa1qdmjd\"\n",
    "\n",
    "vae_model_dir = \"../output/trained_models/priorvae_rbf/\"\n",
    "output_dir = \"output_tex/\"\n",
    "\n",
    "true_ls = 0.2\n",
    "kernel = SquaredExponential()\n",
    "\n",
    "x0 = 0\n",
    "x1 = 1\n",
    "n_data = 80"
   ]
  },
  {
   "cell_type": "code",
   "execution_count": 19,
   "id": "a2bc1a14",
   "metadata": {},
   "outputs": [],
   "source": [
    "mcmc_args = {\n",
    "        \"num_warmup\": 5000,\n",
    "        \"num_mcmc_samples\": 50000,\n",
    "        \"num_chains\": 3,\n",
    "        \"thinning\": 1,\n",
    "       }"
   ]
  },
  {
   "cell_type": "code",
   "execution_count": 20,
   "id": "ca268ea7",
   "metadata": {},
   "outputs": [],
   "source": [
    "x = jnp.linspace(x0, x1, n_data) \n",
    "mcmc_args[\"x\"] = x"
   ]
  },
  {
   "cell_type": "markdown",
   "id": "197813d0",
   "metadata": {},
   "source": [
    "## Generate data for MCMC"
   ]
  },
  {
   "cell_type": "code",
   "execution_count": 21,
   "id": "0b9cde94",
   "metadata": {},
   "outputs": [
    {
     "data": {
      "image/png": "[encoded data removed]",
      "text/plain": [
       "<Figure size 640x480 with 1 Axes>"
      ]
     },
     "metadata": {},
     "output_type": "display_data"
    }
   ],
   "source": [
    "rng_key = random.PRNGKey(8)\n",
    "rng_key_1, rng_key_2 = random.split(rng_key, 2)\n",
    "\n",
    "kernel.lengthscale = true_ls\n",
    "gp_predictive = Predictive(GP, num_samples=1)\n",
    "draws = gp_predictive(rng_key_1, kernel=kernel, x=x, jitter=1e-6, noise=True)\n",
    "\n",
    "gp_draw = draws['f'].T\n",
    "y_draw = draws['y'].T\n",
    "\n",
    "# indices of data points\n",
    "obs_idx = jnp.array([7, 24, 54, 64])\n",
    "y_obs = y_draw[obs_idx,0]\n",
    "x_obs = x[np.array(obs_idx)]\n",
    "\n",
    "# plt.figure(figsize=(10, 3))\n",
    "plt.plot(x, gp_draw, label=\"ground truth\", color=\"orange\")\n",
    "plt.scatter(x_obs, y_obs, color=\"red\", label=\"observed data\", s=60)\n",
    "plt.title('Ground truth, corresponds to $ls$=' + str(true_ls))\n",
    "plt.show()\n"
   ]
  },
  {
   "cell_type": "code",
   "execution_count": 22,
   "id": "d6af0baf",
   "metadata": {},
   "outputs": [],
   "source": [
    "# add data to args. This is used by MCMC.\n",
    "mcmc_args[\"y_obs\"] = y_obs\n",
    "mcmc_args[\"obs_idx\"] = obs_idx"
   ]
  },
  {
   "cell_type": "markdown",
   "id": "479c1ab7",
   "metadata": {},
   "source": [
    "## Load Prior{C}VAE model"
   ]
  },
  {
   "cell_type": "code",
   "execution_count": 23,
   "id": "daff02fb",
   "metadata": {},
   "outputs": [],
   "source": [
    "cfg_path = os.path.join(vae_model_dir, \".hydra\", \"config.yaml\")\n",
    "with open(cfg_path, 'r') as file:\n",
    "    cfg_data = yaml.safe_load(file)\n",
    "\n",
    "latent_dim = cfg_data[\"latent_dim\"]#[\"value\"]\n",
    "conditional = cfg_data[\"conditional\"]#[\"value\"]\n",
    "dec_activation_fn = cfg_data[\"dec_activation\"][\"_target_\"]#[\"value\"][\"_target_\"]\n",
    "dec_activation_fn = getattr(nn, dec_activation_fn.split(\".\")[-1])\n",
    "# dec_activation_fn = None  #nn.leaky_relu\n",
    "kernel_vae = SquaredExponential #getattr(priors, cfg_data[\"data_generator\"][\"value\"][\"kernel\"][\"_target_\"].split(\".\")[-1])"
   ]
  },
  {
   "cell_type": "code",
   "execution_count": 24,
   "id": "aba6808e",
   "metadata": {},
   "outputs": [
    {
     "data": {
      "text/plain": [
       "(priorCVAE.priors.kernels.SquaredExponential, False)"
      ]
     },
     "execution_count": 24,
     "metadata": {},
     "output_type": "execute_result"
    }
   ],
   "source": [
    "kernel_vae, conditional"
   ]
  },
  {
   "cell_type": "code",
   "execution_count": 25,
   "id": "70892080",
   "metadata": {},
   "outputs": [],
   "source": [
    "trained_decoder_params = load_model_params(os.path.join(vae_model_dir, \"model\"))[\"decoder\"]"
   ]
  },
  {
   "cell_type": "code",
   "execution_count": 27,
   "id": "44059ae1",
   "metadata": {},
   "outputs": [],
   "source": [
    "output_dim = trained_decoder_params[\"dec_out\"][\"bias\"].shape[0]\n",
    "hidden_dim = trained_decoder_params[\"dec_hidden_0\"][\"bias\"].shape[0]\n",
    "decoder = MLPDecoder(hidden_dim=hidden_dim, out_dim=output_dim, activations=dec_activation_fn)"
   ]
  },
  {
   "cell_type": "markdown",
   "id": "d48c7550",
   "metadata": {},
   "source": [
    "## Run MCMC inference"
   ]
  },
  {
   "cell_type": "code",
   "execution_count": 28,
   "id": "a52acd5a",
   "metadata": {},
   "outputs": [],
   "source": [
    "mcmc_args[\"latent_dim\"] = latent_dim"
   ]
  },
  {
   "cell_type": "code",
   "execution_count": 29,
   "id": "f88a0bb6",
   "metadata": {},
   "outputs": [],
   "source": [
    "rng_key_1, rng_key_2 = random.split(rng_key_2, 2)"
   ]
  },
  {
   "cell_type": "code",
   "execution_count": 30,
   "id": "77ff8bec",
   "metadata": {},
   "outputs": [
    {
     "data": {
      "application/vnd.jupyter.widget-view+json": {
       "model_id": "0982486f588e4fdf977a949cc31ca7bb",
       "version_major": 2,
       "version_minor": 0
      },
      "text/plain": [
       "  0%|          | 0/55000 [00:00<?, ?it/s]"
      ]
     },
     "metadata": {},
     "output_type": "display_data"
    },
    {
     "data": {
      "application/vnd.jupyter.widget-view+json": {
       "model_id": "5d16851108c24b24b674b1115c9043d8",
       "version_major": 2,
       "version_minor": 0
      },
      "text/plain": [
       "  0%|          | 0/55000 [00:00<?, ?it/s]"
      ]
     },
     "metadata": {},
     "output_type": "display_data"
    },
    {
     "data": {
      "application/vnd.jupyter.widget-view+json": {
       "model_id": "d8c71f04c68d498cba698d822a28a21f",
       "version_major": 2,
       "version_minor": 0
      },
      "text/plain": [
       "  0%|          | 0/55000 [00:00<?, ?it/s]"
      ]
     },
     "metadata": {},
     "output_type": "display_data"
    },
    {
     "name": "stdout",
     "output_type": "stream",
     "text": [
      "\n",
      "                mean       std    median      5.0%     95.0%     n_eff     r_hat\n",
      "      f[0]      0.70      0.16      0.72      0.43      0.95  29224.35      1.00\n",
      "      f[1]      0.72      0.16      0.74      0.44      0.96  31054.79      1.00\n",
      "      f[2]      0.73      0.16      0.75      0.46      0.97  33274.17      1.00\n",
      "      f[3]      0.75      0.16      0.77      0.48      0.98  37068.38      1.00\n",
      "      f[4]      0.75      0.15      0.78      0.49      0.98  41450.08      1.00\n",
      "      f[5]      0.76      0.14      0.78      0.51      0.98  47931.43      1.00\n",
      "      f[6]      0.77      0.14      0.79      0.52      0.98  47551.28      1.00\n",
      "      f[7]      0.76      0.13      0.79      0.53      0.97  51123.24      1.00\n",
      "      f[8]      0.76      0.13      0.78      0.54      0.95  48834.63      1.00\n",
      "      f[9]      0.75      0.13      0.77      0.53      0.94  38546.44      1.00\n",
      "     f[10]      0.74      0.12      0.75      0.53      0.93  29389.35      1.00\n",
      "     f[11]      0.72      0.12      0.73      0.52      0.92  19859.20      1.00\n",
      "     f[12]      0.71      0.12      0.71      0.51      0.91  14950.83      1.00\n",
      "     f[13]      0.69      0.13      0.68      0.49      0.90  12684.57      1.00\n",
      "     f[14]      0.66      0.13      0.66      0.46      0.88  10590.29      1.00\n",
      "     f[15]      0.64      0.13      0.63      0.43      0.86  10569.99      1.00\n",
      "     f[16]      0.62      0.14      0.61      0.40      0.85  10607.79      1.00\n",
      "     f[17]      0.59      0.14      0.58      0.36      0.82  11522.09      1.00\n",
      "     f[18]      0.57      0.14      0.56      0.33      0.80  12943.24      1.00\n",
      "     f[19]      0.54      0.14      0.53      0.30      0.77  15525.14      1.00\n",
      "     f[20]      0.52      0.15      0.50      0.28      0.76  18953.85      1.00\n",
      "     f[21]      0.50      0.15      0.48      0.28      0.75  24063.21      1.00\n",
      "     f[22]      0.49      0.15      0.46      0.26      0.74  31009.20      1.00\n",
      "     f[23]      0.47      0.15      0.44      0.24      0.73  33726.20      1.00\n",
      "     f[24]      0.46      0.15      0.43      0.24      0.74  32993.51      1.00\n",
      "     f[25]      0.46      0.16      0.43      0.23      0.74  26434.16      1.00\n",
      "     f[26]      0.46      0.17      0.44      0.20      0.76  18540.83      1.00\n",
      "     f[27]      0.47      0.18      0.45      0.18      0.78  12757.29      1.00\n",
      "     f[28]      0.48      0.20      0.47      0.15      0.81  10073.41      1.00\n",
      "     f[29]      0.49      0.22      0.48      0.13      0.84   8531.57      1.00\n",
      "     f[30]      0.50      0.24      0.51      0.11      0.89   7431.18      1.00\n",
      "     f[31]      0.52      0.26      0.54      0.08      0.93   6779.31      1.00\n",
      "     f[32]      0.55      0.28      0.58      0.07      1.00   6456.93      1.00\n",
      "     f[33]      0.58      0.30      0.61      0.05      1.04   6222.95      1.00\n",
      "     f[34]      0.62      0.32      0.65      0.05      1.11   6172.39      1.00\n",
      "     f[35]      0.66      0.33      0.70      0.05      1.16   6103.93      1.00\n",
      "     f[36]      0.70      0.34      0.74      0.07      1.22   6102.49      1.00\n",
      "     f[37]      0.74      0.35      0.78      0.10      1.30   6208.81      1.00\n",
      "     f[38]      0.79      0.36      0.82      0.14      1.36   6298.94      1.00\n",
      "     f[39]      0.83      0.36      0.86      0.19      1.40   6545.63      1.00\n",
      "     f[40]      0.87      0.35      0.90      0.25      1.45   6787.17      1.00\n",
      "     f[41]      0.92      0.35      0.93      0.32      1.49   6998.67      1.00\n",
      "     f[42]      0.96      0.33      0.97      0.38      1.51   7535.55      1.00\n",
      "     f[43]      1.00      0.32      1.01      0.43      1.51   7997.07      1.00\n",
      "     f[44]      1.05      0.31      1.05      0.52      1.53   8482.97      1.00\n",
      "     f[45]      1.08      0.29      1.08      0.58      1.54   9121.66      1.00\n",
      "     f[46]      1.11      0.27      1.12      0.66      1.55   9850.23      1.00\n",
      "     f[47]      1.14      0.25      1.15      0.71      1.55  10744.73      1.00\n",
      "     f[48]      1.16      0.23      1.17      0.77      1.54  12410.18      1.00\n",
      "     f[49]      1.19      0.22      1.21      0.82      1.53  13607.05      1.00\n",
      "     f[50]      1.20      0.20      1.22      0.86      1.51  15420.66      1.00\n",
      "     f[51]      1.21      0.18      1.24      0.90      1.50  16525.95      1.00\n",
      "     f[52]      1.22      0.17      1.25      0.91      1.46  17449.62      1.00\n",
      "     f[53]      1.22      0.16      1.26      0.93      1.43  18016.77      1.00\n",
      "     f[54]      1.21      0.15      1.25      0.94      1.42  18094.68      1.00\n",
      "     f[55]      1.19      0.14      1.23      0.94      1.38  17745.17      1.00\n",
      "     f[56]      1.17      0.14      1.20      0.94      1.37  15893.58      1.00\n",
      "     f[57]      1.15      0.13      1.17      0.93      1.34  14777.69      1.00\n",
      "     f[58]      1.12      0.12      1.14      0.91      1.31  15011.32      1.00\n",
      "     f[59]      1.09      0.12      1.10      0.90      1.27  17066.65      1.00\n",
      "     f[60]      1.05      0.11      1.06      0.87      1.22  22701.79      1.00\n",
      "     f[61]      1.01      0.11      1.02      0.84      1.19  43354.80      1.00\n",
      "     f[62]      0.97      0.11      0.97      0.79      1.15  78500.56      1.00\n",
      "     f[63]      0.93      0.11      0.92      0.75      1.12  72171.97      1.00\n",
      "     f[64]      0.88      0.12      0.86      0.69      1.10  49149.13      1.00\n",
      "     f[65]      0.83      0.14      0.80      0.62      1.08  28811.50      1.00\n",
      "     f[66]      0.78      0.16      0.75      0.54      1.07  19077.67      1.00\n",
      "     f[67]      0.73      0.19      0.70      0.45      1.06  13460.92      1.00\n",
      "     f[68]      0.68      0.21      0.65      0.36      1.06  10536.98      1.00\n",
      "     f[69]      0.64      0.24      0.60      0.27      1.05   8868.59      1.00\n",
      "     f[70]      0.59      0.27      0.56      0.18      1.05   8057.35      1.00\n",
      "     f[71]      0.55      0.29      0.51      0.09      1.05   7656.10      1.00\n",
      "     f[72]      0.51      0.32      0.47      0.03      1.06   7174.40      1.00\n",
      "     f[73]      0.48      0.34      0.43     -0.04      1.05   6994.04      1.00\n",
      "     f[74]      0.45      0.35      0.41     -0.09      1.06   6798.06      1.00\n",
      "     f[75]      0.43      0.37      0.38     -0.13      1.06   6700.17      1.00\n",
      "     f[76]      0.41      0.37      0.36     -0.15      1.07   6572.22      1.00\n",
      "     f[77]      0.39      0.38      0.34     -0.18      1.05   6555.02      1.00\n",
      "     f[78]      0.39      0.38      0.33     -0.19      1.05   6472.38      1.00\n",
      "     f[79]      0.38      0.38      0.33     -0.19      1.03   6541.75      1.00\n",
      "     sigma      0.11      0.07      0.10      0.01      0.22   2999.37      1.00\n",
      "      z[0]      0.00      0.99      0.01     -1.65      1.61  17150.38      1.00\n",
      "      z[1]     -0.01      0.99     -0.00     -1.68      1.57  20390.66      1.00\n",
      "      z[2]     -0.97      0.14     -0.98     -1.21     -0.74   7111.77      1.00\n",
      "      z[3]      0.03      1.01      0.04     -1.60      1.72   4941.96      1.00\n",
      "      z[4]     -0.01      0.99     -0.01     -1.58      1.67  19565.14      1.00\n",
      "      z[5]     -0.00      1.00     -0.00     -1.61      1.68  16553.71      1.00\n",
      "      z[6]      0.03      1.01      0.02     -1.60      1.74   4191.55      1.00\n",
      "      z[7]     -0.00      1.02     -0.01     -1.64      1.71   5524.47      1.00\n",
      "      z[8]      0.01      0.99      0.00     -1.58      1.69  16488.92      1.00\n",
      "      z[9]     -0.02      0.99     -0.02     -1.65      1.59  23490.12      1.00\n",
      "     z[10]     -0.03      1.00     -0.03     -1.65      1.61  10827.06      1.00\n",
      "     z[11]      0.04      1.00      0.04     -1.61      1.67   7292.87      1.00\n",
      "     z[12]      0.01      1.00      0.02     -1.63      1.66   7188.40      1.00\n",
      "     z[13]      0.00      1.00      0.00     -1.60      1.68  17707.14      1.00\n",
      "     z[14]     -0.20      0.21     -0.18     -0.54      0.12  12322.33      1.00\n",
      "     z[15]      0.02      1.01      0.01     -1.64      1.69   4282.48      1.00\n",
      "     z[16]     -0.04      1.00     -0.04     -1.72      1.56   9415.27      1.00\n",
      "     z[17]     -0.03      1.01     -0.02     -1.73      1.60   4386.03      1.00\n",
      "     z[18]      0.15      0.58      0.24     -0.85      1.07  19200.29      1.00\n",
      "     z[19]     -0.07      1.14     -0.13     -1.91      1.83   6094.14      1.00\n",
      "     z[20]      0.02      1.00      0.02     -1.62      1.64  10698.01      1.00\n",
      "     z[21]     -0.00      1.00     -0.01     -1.68      1.61  12648.85      1.00\n",
      "     z[22]     -0.01      1.01     -0.00     -1.61      1.71   7195.25      1.00\n",
      "     z[23]     -0.02      0.99     -0.02     -1.67      1.61   9545.52      1.00\n",
      "     z[24]      0.01      1.00      0.01     -1.65      1.63  12291.98      1.00\n",
      "     z[25]      0.01      0.98      0.01     -1.60      1.61  22172.74      1.00\n",
      "     z[26]     -0.02      1.01     -0.02     -1.62      1.69   6006.98      1.00\n",
      "     z[27]     -0.01      0.99     -0.02     -1.62      1.63  11168.54      1.00\n",
      "     z[28]      1.89      0.72      2.16      0.84      2.63  14363.73      1.00\n",
      "     z[29]      0.01      1.01      0.02     -1.67      1.65   4413.09      1.00\n",
      "     z[30]     -0.04      1.00     -0.04     -1.68      1.62   6698.98      1.00\n",
      "     z[31]     -0.01      1.00     -0.02     -1.61      1.66  13513.87      1.00\n",
      "     z[32]     -0.00      1.01     -0.01     -1.64      1.67   5105.87      1.00\n",
      "     z[33]     -0.00      1.00      0.00     -1.62      1.66   8958.70      1.00\n",
      "     z[34]     -0.02      1.01     -0.03     -1.71      1.63   5404.48      1.00\n",
      "     z[35]      0.03      1.00      0.03     -1.60      1.70   6806.38      1.00\n",
      "     z[36]      0.00      1.02     -0.01     -1.66      1.70   4929.74      1.00\n",
      "     z[37]      0.02      1.00      0.03     -1.62      1.67   8238.18      1.00\n",
      "     z[38]      0.00      1.00     -0.01     -1.66      1.63  10663.21      1.00\n",
      "     z[39]     -0.00      1.00     -0.00     -1.64      1.64  11552.66      1.00\n",
      "\n",
      "Number of divergences: 16299\n",
      "\n",
      "MCMC elapsed time: 13 s\n"
     ]
    },
    {
     "name": "stdout",
     "output_type": "stream",
     "text": [
      "Average ESS for all VAE-GP effects : 18897\n"
     ]
    }
   ],
   "source": [
    "mcmc_vae, mcmc_vae_samples, t_elapsed = run_mcmc_vae(rng_key_1, vae_mcmc_inference_model, mcmc_args, decoder, \n",
    "                                                     trained_decoder_params, conditional=conditional)"
   ]
  },
  {
   "cell_type": "code",
   "execution_count": 31,
   "id": "b679f4b5",
   "metadata": {},
   "outputs": [
    {
     "data": {
      "text/plain": [
       "Text(0.5, 1.0, 'PriorCVAE inference')"
      ]
     },
     "execution_count": 31,
     "metadata": {},
     "output_type": "execute_result"
    },
    {
     "data": {
      "image/png": "[encoded data removed]",
      "text/plain": [
       "<Figure size 640x480 with 1 Axes>"
      ]
     },
     "metadata": {},
     "output_type": "display_data"
    }
   ],
   "source": [
    "predictions_vae = mcmc_vae_samples[\"f\"]\n",
    "\n",
    "mean_post_pred_vae = jnp.mean(predictions_vae, axis=0)\n",
    "hpdi_post_pred_vae = hpdi(predictions_vae, 0.9)\n",
    "percentiles_vae = np.percentile(predictions_vae, [5.0, 95.0], axis=0)\n",
    "\n",
    "N_lines = 10\n",
    "\n",
    "# plt.figure(figsize=(10, 3))\n",
    "plt.plot(x, gp_draw, label=\"ground truth\", color=\"orange\")\n",
    "plt.scatter(x_obs, y_obs, color=\"red\", label=\"observed data\", s=60)\n",
    "plt.title('Ground truth, corresponds to $ls$=' + str(true_ls))\n",
    "\n",
    "plt.plot(x, mean_post_pred_vae, label=\"predicted mean VAE\")\n",
    "plt.fill_between(x, percentiles_vae[0, :], percentiles_vae[1, :], alpha=0.3, interpolate=True, \n",
    "                 label=\"VAE posterior: 90% BCI\")\n",
    "\n",
    "y_min = min(np.concatenate([y_obs, mean_post_pred_vae, percentiles_vae[0, :]]))\n",
    "y_max = max(np.concatenate([y_obs, mean_post_pred_vae, percentiles_vae[1, :]]))\n",
    "\n",
    "plt.ylim([y_min, y_max])\n",
    "\n",
    "plt.title('PriorCVAE inference')"
   ]
  },
  {
   "cell_type": "code",
   "execution_count": 32,
   "id": "97b2e419",
   "metadata": {},
   "outputs": [],
   "source": [
    "if conditional:\n",
    "    c_samps = mcmc_vae_samples['c'].reshape((-1,))\n",
    "    plt.hist(c_samps, density=True, label = 'PriorCVAE', bins=20, color='#ff7f0e', alpha=0.5)\n",
    "    plt.vlines(true_ls, 0, 10, color=\"black\")\n",
    "\n",
    "    plt.ylim([0, 6])\n",
    "    plt.show()\n",
    "else:\n",
    "    c_samps = None"
   ]
  },
  {
   "cell_type": "code",
   "execution_count": 33,
   "id": "5855dda6",
   "metadata": {},
   "outputs": [
    {
     "name": "stdout",
     "output_type": "stream",
     "text": [
      "Average ESS for all VAE-GP effects : 18897\n"
     ]
    }
   ],
   "source": [
    "ss = numpyro.diagnostics.summary(mcmc_vae.get_samples(group_by_chain=True))\n",
    "r = np.mean(ss['f']['n_eff'])\n",
    "print(\"Average ESS for all VAE-GP effects : \" + str(round(r)))"
   ]
  },
  {
   "cell_type": "markdown",
   "id": "e304b629",
   "metadata": {},
   "source": [
    "## Saving"
   ]
  },
  {
   "cell_type": "code",
   "execution_count": 34,
   "id": "5544c957",
   "metadata": {},
   "outputs": [],
   "source": [
    "# gp_draw, y_draw, obs_idx, x, true_ls, mcmc_vae_samples, t_elapsed\n",
    "if conditional:\n",
    "    subdir_name = \"PriorCVAE_MCMC_RBF\"\n",
    "else:\n",
    "    subdir_name = \"PriorVAE_MCMC_RBF\"\n",
    "\n",
    "output_mcmc_dir = os.path.join(output_dir, subdir_name)\n",
    "\n",
    "if not os.path.exists(output_mcmc_dir):\n",
    "    os.makedirs(output_mcmc_dir)\n",
    "\n",
    "np.savez(os.path.join(output_mcmc_dir, \"mcmc_stats.npz\"), gp_draw=gp_draw, y_draw=y_draw, obs_idx=obs_idx, x=x,\n",
    "        true_ls=true_ls, t_elapsed=t_elapsed, ess=r)"
   ]
  },
  {
   "cell_type": "code",
   "execution_count": 35,
   "id": "935db847",
   "metadata": {},
   "outputs": [],
   "source": [
    "with open(os.path.join(output_mcmc_dir, \"mcmc_samples.pkl\"), 'wb') as f:\n",
    "    pickle.dump(mcmc_vae_samples, f)"
   ]
  },
  {
   "cell_type": "code",
   "execution_count": null,
   "id": "4bd164c7",
   "metadata": {},
   "outputs": [],
   "source": []
  }
 ],
 "metadata": {
  "kernelspec": {
   "display_name": "Python 3 (ipykernel)",
   "language": "python",
   "name": "python3"
  },
  "language_info": {
   "codemirror_mode": {
    "name": "ipython",
    "version": 3
   },
   "file_extension": ".py",
   "mimetype": "text/x-python",
   "name": "python",
   "nbconvert_exporter": "python",
   "pygments_lexer": "ipython3",
   "version": "3.10.1"
  }
 },
 "nbformat": 4,
 "nbformat_minor": 5
}
