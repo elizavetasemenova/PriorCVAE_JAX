{
 "cells": [
  {
   "cell_type": "code",
   "execution_count": 1,
   "id": "ae1a9f47",
   "metadata": {},
   "outputs": [],
   "source": [
    "import random as rnd\n",
    "import os\n",
    "import time\n",
    "import yaml\n",
    "\n",
    "import pickle\n",
    "import numpy as np \n",
    "import matplotlib.pyplot as plt\n",
    "import numpyro\n",
    "from numpyro.infer import Predictive\n",
    "from numpyro.diagnostics import hpdi\n",
    "numpyro.set_host_device_count(4)\n",
    "import jax\n",
    "import optax\n",
    "from jax import random\n",
    "import jax.numpy as jnp\n",
    "import flax.linen as nn\n",
    "import numpyro.distributions as npdist\n",
    "from numpyro.infer import init_to_median, MCMC, NUTS\n",
    "\n",
    "from priorCVAE.models import MLPDecoder\n",
    "from priorCVAE.mcmc import run_mcmc_vae, vae_mcmc_inference_model, run_mcmc_gp, gp_mcmc_inference_model\n",
    "from priorCVAE.priors import SquaredExponential, Matern52, GP\n",
    "import priorCVAE.priors as priors\n",
    "from priorCVAE.utility import load_model_params\n",
    "\n",
    "import jax.config as config\n",
    "config.update(\"jax_enable_x64\", True)"
   ]
  },
  {
   "cell_type": "code",
   "execution_count": 2,
   "id": "6633eee9",
   "metadata": {},
   "outputs": [],
   "source": [
    "# Matern52 vae_model = \"3tgjr5mg\", cvae_model=\"qa1qdmjd\"  # priorcvae_rbf_mse\n",
    "\n",
    "vae_model_dir = \"../outputs/60wp1vh4\"\n",
    "output_dir = \"output_tex/\"\n",
    "data_path = \"inference_data.npz\"\n",
    "\n",
    "true_ls = 0.2\n",
    "kernel = SquaredExponential()\n",
    "\n",
    "x0 = 0\n",
    "x1 = 1\n",
    "n_data = 80"
   ]
  },
  {
   "cell_type": "code",
   "execution_count": 3,
   "id": "67850f15",
   "metadata": {},
   "outputs": [],
   "source": [
    "obs_data = np.load(data_path)\n",
    "x_obs = obs_data[\"x_obs\"]\n",
    "y_obs = obs_data[\"y_obs\"]\n",
    "y_draw = obs_data[\"y_draw\"]\n",
    "gp_draw = obs_data[\"gp_draw\"]"
   ]
  },
  {
   "cell_type": "code",
   "execution_count": 4,
   "id": "64265c91",
   "metadata": {},
   "outputs": [],
   "source": [
    "x = jnp.linspace(x0, x1, n_data)\n",
    "obs_idx = jnp.array([10, 30, 54, 64])\n",
    "y_obs = y_draw[obs_idx,0]\n",
    "x_obs = x[np.array(obs_idx)]"
   ]
  },
  {
   "cell_type": "code",
   "execution_count": 5,
   "id": "a2bc1a14",
   "metadata": {},
   "outputs": [],
   "source": [
    "mcmc_args = {\n",
    "        \"num_warmup\": 10000,\n",
    "        \"num_mcmc_samples\": 100000,\n",
    "        \"num_chains\": 3,\n",
    "        \"thinning\": 1,\n",
    "       }"
   ]
  },
  {
   "cell_type": "code",
   "execution_count": 6,
   "id": "ca268ea7",
   "metadata": {},
   "outputs": [],
   "source": [
    "x = jnp.linspace(x0, x1, n_data) \n",
    "mcmc_args[\"x\"] = x"
   ]
  },
  {
   "cell_type": "markdown",
   "id": "197813d0",
   "metadata": {},
   "source": [
    "## Generate data for MCMC"
   ]
  },
  {
   "cell_type": "code",
   "execution_count": 7,
   "id": "0b9cde94",
   "metadata": {},
   "outputs": [
    {
     "data": {
      "image/png": "[encoded data removed]",
      "text/plain": [
       "<Figure size 640x480 with 1 Axes>"
      ]
     },
     "metadata": {},
     "output_type": "display_data"
    }
   ],
   "source": [
    "rng_key = random.PRNGKey(8)\n",
    "rng_key_1, rng_key_2 = random.split(rng_key, 2)\n",
    "\n",
    "kernel.lengthscale = true_ls\n",
    "# gp_predictive = Predictive(GP, num_samples=1)\n",
    "# draws = gp_predictive(rng_key_1, kernel=kernel, x=x, jitter=1e-6, noise=True)\n",
    "\n",
    "# gp_draw = draws['f'].T\n",
    "# y_draw = draws['y'].T\n",
    "\n",
    "# indices of data points\n",
    "# obs_idx = jnp.array([7, 24, 54, 64])\n",
    "# y_obs = y_draw[obs_idx,0]\n",
    "# x_obs = x[np.array(obs_idx)]\n",
    "\n",
    "# plt.figure(figsize=(10, 3))\n",
    "plt.plot(x, gp_draw, label=\"ground truth\", color=\"orange\")\n",
    "plt.scatter(x_obs, y_obs, color=\"red\", label=\"observed data\", s=60)\n",
    "plt.title('Ground truth, corresponds to $ls$=' + str(true_ls))\n",
    "plt.show()\n"
   ]
  },
  {
   "cell_type": "code",
   "execution_count": 8,
   "id": "d6af0baf",
   "metadata": {},
   "outputs": [],
   "source": [
    "# add data to args. This is used by MCMC.\n",
    "mcmc_args[\"y_obs\"] = y_obs\n",
    "mcmc_args[\"obs_idx\"] = obs_idx"
   ]
  },
  {
   "cell_type": "markdown",
   "id": "479c1ab7",
   "metadata": {},
   "source": [
    "## Load Prior{C}VAE model"
   ]
  },
  {
   "cell_type": "code",
   "execution_count": 23,
   "id": "daff02fb",
   "metadata": {},
   "outputs": [],
   "source": [
    "cfg_path = os.path.join(vae_model_dir, \".hydra\", \"config.yaml\")\n",
    "with open(cfg_path, 'r') as file:\n",
    "    cfg_data = yaml.safe_load(file)\n",
    "\n",
    "latent_dim = cfg_data[\"latent_dim\"]#[\"value\"]\n",
    "conditional = cfg_data[\"conditional\"]#[\"value\"]\n",
    "dec_activation_fn = cfg_data[\"dec_activation\"][\"_target_\"]#[\"value\"][\"_target_\"]\n",
    "dec_activation_fn = getattr(nn, dec_activation_fn.split(\".\")[-1])\n",
    "kernel_vae = SquaredExponential #getattr(priors, cfg_data[\"data_generator\"][\"value\"][\"kernel\"][\"_target_\"].split(\".\")[-1])"
   ]
  },
  {
   "cell_type": "code",
   "execution_count": 24,
   "id": "aba6808e",
   "metadata": {},
   "outputs": [
    {
     "data": {
      "text/plain": [
       "(priorCVAE.priors.kernels.SquaredExponential, True)"
      ]
     },
     "execution_count": 24,
     "metadata": {},
     "output_type": "execute_result"
    }
   ],
   "source": [
    "kernel_vae, conditional"
   ]
  },
  {
   "cell_type": "code",
   "execution_count": 11,
   "id": "70892080",
   "metadata": {},
   "outputs": [],
   "source": [
    "trained_decoder_params = load_model_params(os.path.join(vae_model_dir, \"model\"))[\"decoder\"]"
   ]
  },
  {
   "cell_type": "code",
   "execution_count": 12,
   "id": "44059ae1",
   "metadata": {},
   "outputs": [],
   "source": [
    "output_dim = trained_decoder_params[\"dec_out\"][\"bias\"].shape[0]\n",
    "hidden_dim = trained_decoder_params[\"dec_hidden_0\"][\"bias\"].shape[0]\n",
    "decoder = MLPDecoder(hidden_dim=hidden_dim, out_dim=output_dim, activations=dec_activation_fn)"
   ]
  },
  {
   "cell_type": "markdown",
   "id": "d48c7550",
   "metadata": {},
   "source": [
    "## Run MCMC inference"
   ]
  },
  {
   "cell_type": "code",
   "execution_count": 13,
   "id": "a52acd5a",
   "metadata": {},
   "outputs": [],
   "source": [
    "mcmc_args[\"latent_dim\"] = latent_dim"
   ]
  },
  {
   "cell_type": "code",
   "execution_count": 14,
   "id": "f88a0bb6",
   "metadata": {},
   "outputs": [],
   "source": [
    "rng_key_1, rng_key_2 = random.split(rng_key_2, 2)"
   ]
  },
  {
   "cell_type": "code",
   "execution_count": 15,
   "id": "77ff8bec",
   "metadata": {},
   "outputs": [
    {
     "data": {
      "application/vnd.jupyter.widget-view+json": {
       "model_id": "2e33d0aa38e142bc8de5a303928b8d4e",
       "version_major": 2,
       "version_minor": 0
      },
      "text/plain": [
       "  0%|          | 0/110000 [00:00<?, ?it/s]"
      ]
     },
     "metadata": {},
     "output_type": "display_data"
    },
    {
     "data": {
      "application/vnd.jupyter.widget-view+json": {
       "model_id": "69350013b16f461cbf866dcb9d0f4905",
       "version_major": 2,
       "version_minor": 0
      },
      "text/plain": [
       "  0%|          | 0/110000 [00:00<?, ?it/s]"
      ]
     },
     "metadata": {},
     "output_type": "display_data"
    },
    {
     "data": {
      "application/vnd.jupyter.widget-view+json": {
       "model_id": "e00ca6a8ed2a4dd8b84f5719d94a0cfc",
       "version_major": 2,
       "version_minor": 0
      },
      "text/plain": [
       "  0%|          | 0/110000 [00:00<?, ?it/s]"
      ]
     },
     "metadata": {},
     "output_type": "display_data"
    },
    {
     "name": "stdout",
     "output_type": "stream",
     "text": [
      "\n",
      "                mean       std    median      5.0%     95.0%     n_eff     r_hat\n",
      "      c[0]      0.24      0.18      0.22      0.01      0.45    523.60      1.01\n",
      "      f[0]      0.04      0.53      0.07     -0.85      0.86    408.63      1.01\n",
      "      f[1]      0.04      0.52      0.06     -0.81      0.85    365.06      1.01\n",
      "      f[2]      0.04      0.49      0.06     -0.75      0.81    304.19      1.01\n",
      "      f[3]      0.04      0.45      0.06     -0.70      0.73    230.63      1.02\n",
      "      f[4]      0.05      0.40      0.07     -0.68      0.62    182.77      1.02\n",
      "      f[5]      0.05      0.36      0.07     -0.60      0.56    149.79      1.02\n",
      "      f[6]      0.05      0.31      0.07     -0.56      0.46    134.32      1.03\n",
      "      f[7]      0.04      0.25      0.06     -0.48      0.37    136.49      1.03\n",
      "      f[8]      0.02      0.20      0.03     -0.35      0.28    171.77      1.02\n",
      "      f[9]     -0.01      0.14      0.00     -0.24      0.21    398.62      1.01\n",
      "     f[10]     -0.05      0.12     -0.03     -0.25      0.13 163553.13      1.00\n",
      "     f[11]     -0.09      0.14     -0.09     -0.29      0.15    237.35      1.01\n",
      "     f[12]     -0.12      0.19     -0.14     -0.37      0.26    159.23      1.02\n",
      "     f[13]     -0.14      0.25     -0.18     -0.47      0.33    168.76      1.02\n",
      "     f[14]     -0.16      0.30     -0.22     -0.57      0.37    216.40      1.01\n",
      "     f[15]     -0.17      0.35     -0.25     -0.66      0.42    312.20      1.01\n",
      "     f[16]     -0.17      0.39     -0.26     -0.73      0.49    557.09      1.01\n",
      "     f[17]     -0.18      0.43     -0.28     -0.80      0.56   1226.06      1.00\n",
      "     f[18]     -0.20      0.45     -0.30     -0.84      0.59   4760.70      1.00\n",
      "     f[19]     -0.23      0.45     -0.32     -0.90      0.58   9667.64      1.00\n",
      "     f[20]     -0.28      0.44     -0.36     -0.94      0.51  10383.22      1.00\n",
      "     f[21]     -0.36      0.42     -0.42     -0.98      0.39   8900.94      1.00\n",
      "     f[22]     -0.44      0.39     -0.49     -1.01      0.25   7811.47      1.00\n",
      "     f[23]     -0.52      0.35     -0.56     -1.07      0.08   7351.23      1.00\n",
      "     f[24]     -0.60      0.32     -0.62     -1.11     -0.06   7844.48      1.00\n",
      "     f[25]     -0.68      0.29     -0.68     -1.14     -0.17   9230.55      1.00\n",
      "     f[26]     -0.74      0.27     -0.72     -1.18     -0.28  11045.92      1.00\n",
      "     f[27]     -0.77      0.24     -0.76     -1.18     -0.37  13467.14      1.00\n",
      "     f[28]     -0.79      0.21     -0.79     -1.14     -0.45  20028.93      1.00\n",
      "     f[29]     -0.78      0.16     -0.80     -1.04     -0.51  32889.77      1.00\n",
      "     f[30]     -0.74      0.13     -0.78     -0.93     -0.52  15442.14      1.00\n",
      "     f[31]     -0.70      0.14     -0.72     -0.92     -0.45   2182.29      1.00\n",
      "     f[32]     -0.64      0.20     -0.66     -0.94     -0.29   1679.56      1.00\n",
      "     f[33]     -0.59      0.26     -0.62     -0.98     -0.13   1840.57      1.00\n",
      "     f[34]     -0.54      0.31     -0.58     -1.01     -0.00   1454.13      1.00\n",
      "     f[35]     -0.51      0.34     -0.55     -1.04      0.09   1216.10      1.01\n",
      "     f[36]     -0.49      0.36     -0.53     -1.07      0.13   1381.45      1.01\n",
      "     f[37]     -0.47      0.37     -0.51     -1.08      0.17   1293.33      1.01\n",
      "     f[38]     -0.47      0.38     -0.49     -1.11      0.18   1077.36      1.01\n",
      "     f[39]     -0.47      0.40     -0.48     -1.11      0.22    955.88      1.01\n",
      "     f[40]     -0.46      0.41     -0.46     -1.15      0.23    909.62      1.01\n",
      "     f[41]     -0.44      0.42     -0.44     -1.12      0.29    760.79      1.01\n",
      "     f[42]     -0.42      0.42     -0.41     -1.10      0.32    579.33      1.01\n",
      "     f[43]     -0.39      0.42     -0.39     -1.09      0.33    476.91      1.01\n",
      "     f[44]     -0.34      0.42     -0.36     -1.03      0.37    422.69      1.01\n",
      "     f[45]     -0.29      0.42     -0.31     -0.95      0.43    435.48      1.01\n",
      "     f[46]     -0.23      0.42     -0.26     -0.87      0.48    536.07      1.01\n",
      "     f[47]     -0.17      0.41     -0.21     -0.79      0.52    798.53      1.00\n",
      "     f[48]     -0.13      0.39     -0.17     -0.69      0.56   1578.24      1.00\n",
      "     f[49]     -0.09      0.36     -0.14     -0.63      0.53   4654.85      1.00\n",
      "     f[50]     -0.07      0.32     -0.10     -0.57      0.46  11066.54      1.00\n",
      "     f[51]     -0.05      0.26     -0.06     -0.49      0.38  13808.33      1.00\n",
      "     f[52]     -0.06      0.20     -0.06     -0.40      0.27  12817.42      1.00\n",
      "     f[53]     -0.08      0.15     -0.06     -0.33      0.16   7309.13      1.00\n",
      "     f[54]     -0.10      0.12     -0.07     -0.31      0.07  17611.19      1.00\n",
      "     f[55]     -0.14      0.12     -0.13     -0.34      0.07   8536.50      1.00\n",
      "     f[56]     -0.17      0.15     -0.16     -0.42      0.07    496.67      1.01\n",
      "     f[57]     -0.19      0.18     -0.17     -0.55      0.05    206.09      1.01\n",
      "     f[58]     -0.21      0.21     -0.19     -0.60      0.11    134.22      1.02\n",
      "     f[59]     -0.22      0.22     -0.19     -0.62      0.13    102.79      1.03\n",
      "     f[60]     -0.23      0.22     -0.20     -0.60      0.13     87.80      1.03\n",
      "     f[61]     -0.24      0.20     -0.21     -0.57      0.10     82.62      1.03\n",
      "     f[62]     -0.24      0.17     -0.22     -0.52      0.05     91.57      1.03\n",
      "     f[63]     -0.24      0.13     -0.24     -0.50     -0.07    161.24      1.02\n",
      "     f[64]     -0.24      0.11     -0.26     -0.41     -0.05 102299.22      1.00\n",
      "     f[65]     -0.24      0.14     -0.26     -0.46     -0.02    317.27      1.01\n",
      "     f[66]     -0.25      0.20     -0.27     -0.51      0.15    160.81      1.02\n",
      "     f[67]     -0.26      0.26     -0.28     -0.60      0.27    152.99      1.02\n",
      "     f[68]     -0.26      0.31     -0.28     -0.71      0.34    173.04      1.01\n",
      "     f[69]     -0.27      0.36     -0.28     -0.80      0.38    227.74      1.01\n",
      "     f[70]     -0.27      0.40     -0.28     -0.90      0.38    342.34      1.01\n",
      "     f[71]     -0.26      0.43     -0.27     -0.97      0.41    747.38      1.00\n",
      "     f[72]     -0.25      0.45     -0.25     -1.00      0.47   3006.46      1.00\n",
      "     f[73]     -0.25      0.47     -0.25     -1.01      0.52   7423.00      1.00\n",
      "     f[74]     -0.26      0.49     -0.29     -1.06      0.55   6299.72      1.00\n",
      "     f[75]     -0.26      0.52     -0.29     -1.11      0.60   1758.96      1.00\n",
      "     f[76]     -0.26      0.55     -0.28     -1.11      0.70    849.32      1.01\n",
      "     f[77]     -0.25      0.58     -0.26     -1.16      0.73    595.79      1.01\n",
      "     f[78]     -0.23      0.60     -0.25     -1.17      0.78    502.57      1.01\n",
      "     f[79]     -0.21      0.61     -0.23     -1.16      0.81    467.89      1.01\n",
      "     sigma      0.09      0.07      0.08      0.01      0.19    299.16      1.01\n",
      "      z[0]     -0.07      1.04     -0.05     -1.80      1.52    207.84      1.02\n",
      "      z[1]      0.40      0.64      0.36     -0.64      1.48   5693.41      1.00\n",
      "      z[2]     -0.01      1.01     -0.04     -1.58      1.75    895.97      1.00\n",
      "      z[3]     -0.03      0.98     -0.06     -1.58      1.64   2080.05      1.00\n",
      "      z[4]     -0.11      0.98     -0.08     -1.78      1.43   1709.66      1.00\n",
      "      z[5]      0.02      1.01      0.01     -1.60      1.77   2446.60      1.00\n",
      "      z[6]      0.05      0.99      0.07     -1.57      1.66   1036.22      1.00\n",
      "      z[7]      0.80      0.91      0.77     -0.65      2.34   1492.94      1.00\n",
      "      z[8]     -0.06      1.00     -0.09     -1.70      1.56    799.14      1.00\n",
      "      z[9]      0.06      1.04      0.04     -1.67      1.71    240.19      1.01\n",
      "     z[10]      0.02      0.99      0.04     -1.59      1.64   1000.77      1.00\n",
      "     z[11]     -0.21      1.02     -0.18     -1.94      1.34    159.22      1.02\n",
      "     z[12]      0.05      1.01      0.04     -1.60      1.62    412.53      1.01\n",
      "     z[13]     -0.00      0.98      0.03     -1.66      1.61   6850.85      1.00\n",
      "     z[14]      0.05      0.90      0.04     -1.41      1.53    865.49      1.00\n",
      "     z[15]      0.03      0.95      0.04     -1.58      1.50   1072.13      1.00\n",
      "     z[16]      0.06      1.00      0.06     -1.61      1.63    413.84      1.01\n",
      "     z[17]     -0.08      0.99     -0.05     -1.63      1.52    275.98      1.01\n",
      "     z[18]      0.04      1.02      0.03     -1.61      1.67    353.45      1.01\n",
      "     z[19]      0.26      1.09      0.24     -1.48      2.01    249.80      1.01\n",
      "     z[20]     -0.04      0.99     -0.05     -1.75      1.54   3057.17      1.00\n",
      "     z[21]     -0.05      1.01     -0.05     -1.60      1.61    500.08      1.01\n",
      "     z[22]      0.08      0.35      0.08     -0.52      0.64   7734.90      1.00\n",
      "     z[23]     -0.03      0.98     -0.06     -1.63      1.62   2257.80      1.00\n",
      "     z[24]      0.23      1.11      0.20     -1.52      2.06    264.67      1.01\n",
      "     z[25]     -0.73      0.86     -0.73     -2.16      0.66  16985.56      1.00\n",
      "     z[26]      0.01      1.01     -0.01     -1.62      1.69    911.13      1.00\n",
      "     z[27]     -0.10      1.09     -0.06     -2.36      1.35    141.82      1.02\n",
      "     z[28]     -0.01      0.98     -0.04     -1.59      1.64   1922.11      1.00\n",
      "     z[29]     -0.00      0.98     -0.03     -1.59      1.65   8945.07      1.00\n",
      "     z[30]     -0.05      0.99     -0.08     -1.64      1.57   1164.90      1.00\n",
      "     z[31]     -0.00      0.97     -0.02     -1.64      1.60  14968.95      1.00\n",
      "     z[32]     -0.03      1.01     -0.04     -1.63      1.61    784.69      1.00\n",
      "     z[33]     -0.04      0.99     -0.06     -1.61      1.63    728.75      1.01\n",
      "     z[34]     -0.03      0.99     -0.06     -1.58      1.65    682.54      1.00\n",
      "     z[35]     -0.02      0.99     -0.05     -1.63      1.63   1874.36      1.00\n",
      "     z[36]     -0.50      0.21     -0.52     -0.84     -0.16    297.86      1.01\n",
      "     z[37]     -0.07      1.01     -0.08     -1.73      1.54    420.06      1.01\n",
      "     z[38]     -0.04      0.99     -0.06     -1.60      1.62   1185.83      1.00\n",
      "     z[39]     -0.01      0.99     -0.03     -1.56      1.67   1930.17      1.00\n",
      "\n",
      "Number of divergences: 25337\n",
      "\n",
      "MCMC elapsed time: 48 s\n"
     ]
    },
    {
     "name": "stdout",
     "output_type": "stream",
     "text": [
      "Average ESS for all VAE-GP effects : 6873\n"
     ]
    }
   ],
   "source": [
    "mcmc_vae, mcmc_vae_samples, t_elapsed = run_mcmc_vae(rng_key_1, vae_mcmc_inference_model, mcmc_args, decoder, \n",
    "                                                     trained_decoder_params, conditional=conditional)"
   ]
  },
  {
   "cell_type": "code",
   "execution_count": 16,
   "id": "b679f4b5",
   "metadata": {},
   "outputs": [
    {
     "data": {
      "text/plain": [
       "Text(0.5, 1.0, 'PriorCVAE inference')"
      ]
     },
     "execution_count": 16,
     "metadata": {},
     "output_type": "execute_result"
    },
    {
     "data": {
      "image/png": "[encoded data removed]",
      "text/plain": [
       "<Figure size 640x480 with 1 Axes>"
      ]
     },
     "metadata": {},
     "output_type": "display_data"
    }
   ],
   "source": [
    "predictions_vae = mcmc_vae_samples[\"f\"]\n",
    "\n",
    "mean_post_pred_vae = jnp.mean(predictions_vae, axis=0)\n",
    "hpdi_post_pred_vae = hpdi(predictions_vae, 0.9)\n",
    "percentiles_vae = np.percentile(predictions_vae, [5.0, 95.0], axis=0)\n",
    "\n",
    "N_lines = 10\n",
    "\n",
    "# plt.figure(figsize=(10, 3))\n",
    "plt.plot(x, gp_draw, label=\"ground truth\", color=\"orange\")\n",
    "plt.scatter(x_obs, y_obs, color=\"red\", label=\"observed data\", s=60)\n",
    "plt.title('Ground truth, corresponds to $ls$=' + str(true_ls))\n",
    "\n",
    "plt.plot(x, mean_post_pred_vae, label=\"predicted mean VAE\")\n",
    "plt.fill_between(x, percentiles_vae[0, :], percentiles_vae[1, :], alpha=0.3, interpolate=True, \n",
    "                 label=\"VAE posterior: 90% BCI\")\n",
    "\n",
    "y_min = min(np.concatenate([y_obs, mean_post_pred_vae, percentiles_vae[0, :]]))\n",
    "y_max = max(np.concatenate([y_obs, mean_post_pred_vae, percentiles_vae[1, :]]))\n",
    "\n",
    "plt.ylim([y_min, y_max])\n",
    "\n",
    "plt.title('PriorCVAE inference')"
   ]
  },
  {
   "cell_type": "code",
   "execution_count": 17,
   "id": "97b2e419",
   "metadata": {},
   "outputs": [
    {
     "data": {
      "image/png": "[encoded data removed]",
      "text/plain": [
       "<Figure size 640x480 with 1 Axes>"
      ]
     },
     "metadata": {},
     "output_type": "display_data"
    }
   ],
   "source": [
    "if conditional:\n",
    "    c_samps = mcmc_vae_samples['c'].reshape((-1,))\n",
    "    plt.hist(c_samps, density=True, label = 'PriorCVAE', bins=20, color='#ff7f0e', alpha=0.5)\n",
    "    plt.vlines(true_ls, 0, 10, color=\"black\")\n",
    "\n",
    "    plt.ylim([0, 6])\n",
    "    plt.show()\n",
    "else:\n",
    "    c_samps = None"
   ]
  },
  {
   "cell_type": "code",
   "execution_count": 18,
   "id": "5855dda6",
   "metadata": {},
   "outputs": [
    {
     "name": "stdout",
     "output_type": "stream",
     "text": [
      "Average ESS for all VAE-GP effects : 6873\n"
     ]
    }
   ],
   "source": [
    "ss = numpyro.diagnostics.summary(mcmc_vae.get_samples(group_by_chain=True))\n",
    "r = np.mean(ss['f']['n_eff'])\n",
    "print(\"Average ESS for all VAE-GP effects : \" + str(round(r)))"
   ]
  },
  {
   "cell_type": "markdown",
   "id": "e304b629",
   "metadata": {},
   "source": [
    "## Saving"
   ]
  },
  {
   "cell_type": "code",
   "execution_count": 19,
   "id": "5544c957",
   "metadata": {},
   "outputs": [],
   "source": [
    "# gp_draw, y_draw, obs_idx, x, true_ls, mcmc_vae_samples, t_elapsed\n",
    "if conditional:\n",
    "    subdir_name = \"PriorCVAE_MCMC_RBF\"\n",
    "else:\n",
    "    subdir_name = \"PriorVAE_MCMC_RBF\"\n",
    "\n",
    "output_mcmc_dir = os.path.join(output_dir, subdir_name)\n",
    "\n",
    "if not os.path.exists(output_mcmc_dir):\n",
    "    os.makedirs(output_mcmc_dir)\n",
    "\n",
    "np.savez(os.path.join(output_mcmc_dir, \"mcmc_stats.npz\"), gp_draw=gp_draw, y_draw=y_draw, obs_idx=obs_idx, x=x,\n",
    "        true_ls=true_ls, t_elapsed=t_elapsed, ess=r)"
   ]
  },
  {
   "cell_type": "code",
   "execution_count": 20,
   "id": "935db847",
   "metadata": {},
   "outputs": [],
   "source": [
    "with open(os.path.join(output_mcmc_dir, \"mcmc_samples.pkl\"), 'wb') as f:\n",
    "    pickle.dump(mcmc_vae_samples, f)"
   ]
  },
  {
   "cell_type": "code",
   "execution_count": null,
   "id": "4bd164c7",
   "metadata": {},
   "outputs": [],
   "source": []
  }
 ],
 "metadata": {
  "kernelspec": {
   "display_name": "Python 3 (ipykernel)",
   "language": "python",
   "name": "python3"
  },
  "language_info": {
   "codemirror_mode": {
    "name": "ipython",
    "version": 3
   },
   "file_extension": ".py",
   "mimetype": "text/x-python",
   "name": "python",
   "nbconvert_exporter": "python",
   "pygments_lexer": "ipython3",
   "version": "3.10.1"
  }
 },
 "nbformat": 4,
 "nbformat_minor": 5
}
