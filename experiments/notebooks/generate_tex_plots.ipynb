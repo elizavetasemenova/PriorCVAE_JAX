{
 "cells": [
  {
   "cell_type": "markdown",
   "id": "20fca0ef",
   "metadata": {},
   "source": [
    "## Generate Plots for MCMC inference"
   ]
  },
  {
   "cell_type": "code",
   "execution_count": 1,
   "id": "65380834",
   "metadata": {},
   "outputs": [],
   "source": [
    "import random\n",
    "import time\n",
    "\n",
    "import tikzplotlib\n",
    "import numpy as np\n",
    "import geopandas as gpd\n",
    "import matplotlib.pyplot as plt\n",
    "import jax\n",
    "import jax.numpy as jnp\n",
    "import numpyro.distributions as npdist\n",
    "import numpyro\n",
    "from numpyro.infer import Predictive, init_to_median, MCMC, NUTS\n",
    "import pickle\n",
    "\n",
    "import jax.config as config\n",
    "config.update(\"jax_enable_x64\", True)\n",
    "\n",
    "from priorCVAE.priors import Matern52, SquaredExponential\n",
    "from experiments.zimbabwe.zimbabwe_utility import read_data"
   ]
  },
  {
   "cell_type": "code",
   "execution_count": 20,
   "id": "7852e103",
   "metadata": {},
   "outputs": [],
   "source": [
    "def model_centroids(x, n_obs=None, kernel=Matern52(), y=None):\n",
    "    \n",
    "    # fixed effects\n",
    "    b0 = numpyro.sample('b0', npdist.Normal(0, 1))\n",
    "     \n",
    "    lengthscale = numpyro.sample(\"lengthscale\", npdist.Gamma(2,4)) \n",
    "    kernel.lengthscale = lengthscale\n",
    "    k = kernel(x, x)\n",
    "    \n",
    "    kernel_var = numpyro.sample(\"variance\", npdist.Gamma(1.5, 1.5)) \n",
    "    N = x.shape[0]\n",
    "    re_std = numpyro.sample('re_std', npdist.MultivariateNormal(loc=jnp.zeros(N), covariance_matrix=k))\n",
    "    re = numpyro.deterministic('re', kernel_var * re_std)\n",
    "    \n",
    "    # linear predictor\n",
    "    lp = b0 + re\n",
    "    theta = numpyro.deterministic(\"theta\", jax.nn.sigmoid(lp))\n",
    "    \n",
    "    numpyro.sample(\"obs\", npdist.BinomialLogits(total_count = n_obs, logits=lp), obs=y)"
   ]
  },
  {
   "cell_type": "code",
   "execution_count": 21,
   "id": "19f888fe",
   "metadata": {},
   "outputs": [],
   "source": [
    "gp_mcmc_inference_path = \"zimbabwe_gp_mcmc.pkl\"\n",
    "data_path = \"../data/zwe2016phia.geojson\""
   ]
  },
  {
   "cell_type": "code",
   "execution_count": 22,
   "id": "eac184c4",
   "metadata": {},
   "outputs": [],
   "source": [
    "with open(gp_mcmc_inference_path, \"rb\") as input_file:\n",
    "     gp_mcmc = pickle.load(input_file)"
   ]
  },
  {
   "cell_type": "code",
   "execution_count": 23,
   "id": "3c05330c",
   "metadata": {},
   "outputs": [],
   "source": [
    "mcmc_gp_samples = gp_mcmc.get_samples()"
   ]
  },
  {
   "cell_type": "code",
   "execution_count": 26,
   "id": "60f27d22",
   "metadata": {},
   "outputs": [
    {
     "name": "stderr",
     "output_type": "stream",
     "text": [
      "/Users/vermap1/projects/PriorCVAE_JAX/experiments/zimbabwe/zimbabwe_utility.py:15: UserWarning: Geometry is in a geographic CRS. Results from 'centroid' are likely incorrect. Use 'GeoSeries.to_crs()' to re-project geometries to a projected CRS before this operation.\n",
      "\n",
      "  data_frame[\"centroid\"] = data_frame[\"geometry\"].centroid\n",
      "/Users/vermap1/projects/PriorCVAE_JAX/experiments/zimbabwe/zimbabwe_utility.py:16: UserWarning: Geometry is in a geographic CRS. Results from 'centroid' are likely incorrect. Use 'GeoSeries.to_crs()' to re-project geometries to a projected CRS before this operation.\n",
      "\n",
      "  temp_centroids = data_frame[\"geometry\"].centroid\n"
     ]
    }
   ],
   "source": [
    "x, data_centroid = read_data(data_path, normalize=False)\n",
    "data = gpd.read_file(data_path)\n",
    "\n",
    "data['y'] = round(data['y']).astype(int)\n",
    "data['n_obs'] = round(data['n_obs']).astype(int)"
   ]
  },
  {
   "cell_type": "code",
   "execution_count": 38,
   "id": "929f6aca",
   "metadata": {},
   "outputs": [],
   "source": [
    "rng_key, rng_key_ = jax.random.split(jax.random.PRNGKey(random.randint(0, 9999)))\n",
    "gp_predictive = Predictive(model_centroids, num_samples=5000)\n",
    "gp_preds = gp_predictive(rng_key_, x=x, n_obs = jnp.array(data.n_obs))\n",
    "\n",
    "ls_prior_draws = gp_preds['lengthscale']\n",
    "kernel_var_prior = gp_preds['variance']"
   ]
  },
  {
   "cell_type": "code",
   "execution_count": 45,
   "id": "4da8e291",
   "metadata": {},
   "outputs": [
    {
     "data": {
      "image/png": "[encoded data removed]",
      "text/plain": [
       "<Figure size 600x400 with 1 Axes>"
      ]
     },
     "metadata": {},
     "output_type": "display_data"
    }
   ],
   "source": [
    "c_samps_gp = mcmc_gp_samples['lengthscale']\n",
    "\n",
    "fig, ax = plt.subplots(1, 1, figsize=(6, 4))\n",
    "plt.hist(c_samps_gp, density=True, bins=50, alpha=0.5)\n",
    "plt.hist(ls_prior_draws, density=True, bins=50, alpha=0.5)\n",
    "\n",
    "plt.xlim([0, 2.])\n",
    "\n",
    "plt.xticks([0, 0.5, 1.0, 1.5, 2.0])\n",
    "plt.yticks([0, 0.4, 0.8, 1.2, 1.6])\n",
    "\n",
    "plt.tight_layout()\n",
    "\n",
    "tikzplotlib.save(r\"lengthscale.tex\",\n",
    "                 figurewidth='\\\\figurewidth', figureheight='\\\\figureheight',\n",
    "                 figure=fig)\n",
    "\n",
    "plt.show()"
   ]
  },
  {
   "cell_type": "code",
   "execution_count": 46,
   "id": "4da30226",
   "metadata": {},
   "outputs": [
    {
     "data": {
      "image/png": "[encoded data removed]",
      "text/plain": [
       "<Figure size 600x400 with 1 Axes>"
      ]
     },
     "metadata": {},
     "output_type": "display_data"
    }
   ],
   "source": [
    "var_samps_gp = mcmc_gp_samples['variance']\n",
    "fig, ax = plt.subplots(1, 1, figsize=(6, 4))\n",
    "\n",
    "plt.hist(var_samps_gp, density=True, bins=50, alpha=0.5)\n",
    "plt.hist(kernel_var_prior, density=True, bins=50, alpha=0.5)\n",
    "\n",
    "plt.xlim([0, 2.5])\n",
    "plt.xticks([0, 0.5, 1.0, 1.5, 2.0])\n",
    "plt.yticks([0, 2, 4, 6])\n",
    "\n",
    "plt.tight_layout()\n",
    "tikzplotlib.save(r\"variance.tex\",\n",
    "                 figurewidth='\\\\figurewidth', figureheight='\\\\figureheight',\n",
    "                 figure=fig)\n",
    "\n",
    "plt.show()"
   ]
  },
  {
   "cell_type": "code",
   "execution_count": null,
   "id": "eeb13499",
   "metadata": {},
   "outputs": [],
   "source": []
  }
 ],
 "metadata": {
  "kernelspec": {
   "display_name": "Python 3 (ipykernel)",
   "language": "python",
   "name": "python3"
  },
  "language_info": {
   "codemirror_mode": {
    "name": "ipython",
    "version": 3
   },
   "file_extension": ".py",
   "mimetype": "text/x-python",
   "name": "python",
   "nbconvert_exporter": "python",
   "pygments_lexer": "ipython3",
   "version": "3.10.1"
  }
 },
 "nbformat": 4,
 "nbformat_minor": 5
}
