{
 "cells": [
  {
   "cell_type": "code",
   "execution_count": 1,
   "id": "be171e4b",
   "metadata": {},
   "outputs": [],
   "source": [
    "import os\n",
    "import random\n",
    "\n",
    "import matplotlib.pyplot as plt\n",
    "import jax\n",
    "import jax.numpy as jnp\n",
    "\n",
    "from priorCVAE.priors import Matern12, Matern52, SquaredExponential\n",
    "from priorCVAE.datasets import GPDataset"
   ]
  },
  {
   "cell_type": "code",
   "execution_count": 2,
   "id": "7feb3614",
   "metadata": {},
   "outputs": [],
   "source": [
    "kernel = Matern52()  # Matern12(), Matern52(), SquaredExponential()\n",
    "n_samples = 5000\n",
    "plot_ls = [0.1, 1.0]\n",
    "x0 = 0\n",
    "x1 = 1\n",
    "n_data = 80\n",
    "\n",
    "output_dir = r\"output_tex/\""
   ]
  },
  {
   "cell_type": "code",
   "execution_count": 3,
   "id": "92950973",
   "metadata": {},
   "outputs": [],
   "source": [
    "if not os.path.exists(output_dir):\n",
    "    os.makedirs(output_dir)"
   ]
  },
  {
   "cell_type": "code",
   "execution_count": 4,
   "id": "b12d2eb6",
   "metadata": {},
   "outputs": [],
   "source": [
    "x = jnp.linspace(x0, x1, n_data)    "
   ]
  },
  {
   "cell_type": "code",
   "execution_count": 5,
   "id": "0f610a71",
   "metadata": {},
   "outputs": [],
   "source": [
    "gp_dataset = GPDataset(kernel=kernel, x=x, sample_lengthscale=False)"
   ]
  },
  {
   "cell_type": "code",
   "execution_count": 6,
   "id": "0fc5a23a",
   "metadata": {},
   "outputs": [],
   "source": [
    "for i, ls in enumerate(plot_ls):\n",
    "    key = jax.random.PRNGKey(random.randint(0, 9999))\n",
    "    \n",
    "    gp_dataset.kernel.lengthscale = ls\n",
    "    _, gp_samples, _ = gp_dataset.simulatedata(n_samples)\n",
    "    gp_samples_mean = jnp.mean(gp_samples, axis=0)\n",
    "    gp_samples_std = jnp.std(gp_samples, axis=0)\n",
    "    \n",
    "    plt.clf()\n",
    "    for s in gp_samples[:10]:\n",
    "        plt.plot(x, s, c=\"tab:blue\", alpha=0.5)\n",
    "    \n",
    "    plt.plot(x, gp_samples_mean, c=\"tab:green\")\n",
    "    plt.plot(x, gp_samples_mean + 2 * gp_samples_std, c=\"tab:green\")\n",
    "    plt.plot(x, gp_samples_mean - 2 * gp_samples_std, c=\"tab:green\")\n",
    "    \n",
    "    plt.xlim([x[0], x[-1]])\n",
    "    plt.ylim([-3, 3])\n",
    "    plt.show()\n",
    "    \n",
    "    output_filename = f\"GP_{type(kernel).__name__}_{str(ls).replace('.', '_')}.npz\"\n",
    "    output_file_path = os.path.join(output_dir, output_filename)\n",
    "    \n",
    "    jnp.savez(output_file_path, samples=gp_samples, samples_mean=gp_samples_mean, samples_std=gp_samples_std)"
   ]
  },
  {
   "cell_type": "code",
   "execution_count": null,
   "id": "cd8ad631",
   "metadata": {},
   "outputs": [],
   "source": []
  },
  {
   "cell_type": "code",
   "execution_count": null,
   "id": "67a1e818",
   "metadata": {},
   "outputs": [],
   "source": []
  }
 ],
 "metadata": {
  "kernelspec": {
   "display_name": "Python 3 (ipykernel)",
   "language": "python",
   "name": "python3"
  },
  "language_info": {
   "codemirror_mode": {
    "name": "ipython",
    "version": 3
   },
   "file_extension": ".py",
   "mimetype": "text/x-python",
   "name": "python",
   "nbconvert_exporter": "python",
   "pygments_lexer": "ipython3",
   "version": "3.10.1"
  }
 },
 "nbformat": 4,
 "nbformat_minor": 5
}
