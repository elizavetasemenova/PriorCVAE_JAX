{
 "cells": [
  {
   "cell_type": "code",
   "execution_count": 1,
   "id": "fe777ffc",
   "metadata": {},
   "outputs": [],
   "source": [
    "import random\n",
    "\n",
    "import jax\n",
    "import jax.numpy as jnp\n",
    "import matplotlib.pyplot as plt\n",
    "\n",
    "from priorCVAE.models import CNNDecoder\n",
    "from priorCVAE.utility import load_model_params"
   ]
  },
  {
   "cell_type": "code",
   "execution_count": 2,
   "id": "c1667169",
   "metadata": {},
   "outputs": [],
   "source": [
    "output_dir = \"../outputs/cjt8e8sn/model\""
   ]
  },
  {
   "cell_type": "code",
   "execution_count": 3,
   "id": "6b3dc4c7",
   "metadata": {},
   "outputs": [],
   "source": [
    "params = load_model_params(output_dir)\n",
    "decoder_params = params['decoder']"
   ]
  },
  {
   "cell_type": "code",
   "execution_count": 4,
   "id": "7f9a8425",
   "metadata": {},
   "outputs": [],
   "source": [
    "key = jax.random.PRNGKey(random.randint(0, 9999))\n",
    "rng, z_rng = jax.random.split(key, 2)\n",
    "z = jax.random.normal(z_rng, (5, 30))\n",
    "\n",
    "decoder = CNNDecoder(conv_features=[5, 3, 1], conv_kernel_size=[[2, 2], [2, 2], [5, 5]], conv_stride=[2, 2, 1],\n",
    "                     hidden_dim=[120, 300], decoder_reshape=(7, 7, 8), out_channel=1)\n",
    "out = decoder.apply({'params': decoder_params}, z)"
   ]
  },
  {
   "cell_type": "code",
   "execution_count": 5,
   "id": "928b7e81",
   "metadata": {},
   "outputs": [
    {
     "data": {
      "text/plain": [
       "(Array([[0.49619764],\n",
       "        [0.49789742],\n",
       "        [0.49553362],\n",
       "        [0.4972615 ],\n",
       "        [0.49635157],\n",
       "        [0.4953671 ],\n",
       "        [0.49642548],\n",
       "        [0.49627903],\n",
       "        [0.49642524],\n",
       "        [0.4958006 ],\n",
       "        [0.49538943],\n",
       "        [0.4952097 ],\n",
       "        [0.49617103],\n",
       "        [0.49550778],\n",
       "        [0.49689364],\n",
       "        [0.49711865],\n",
       "        [0.49825484],\n",
       "        [0.49810094],\n",
       "        [0.49868965],\n",
       "        [0.49814177],\n",
       "        [0.49784884],\n",
       "        [0.4983593 ],\n",
       "        [0.4976661 ],\n",
       "        [0.49819675],\n",
       "        [0.49800113],\n",
       "        [0.49646652],\n",
       "        [0.49719387],\n",
       "        [0.49692768],\n",
       "        [0.49687052],\n",
       "        [0.4968334 ],\n",
       "        [0.497329  ],\n",
       "        [0.49689093]], dtype=float32),\n",
       " Array([[0.49618757],\n",
       "        [0.49788377],\n",
       "        [0.4955102 ],\n",
       "        [0.49723202],\n",
       "        [0.4963206 ],\n",
       "        [0.49531144],\n",
       "        [0.49639788],\n",
       "        [0.49624407],\n",
       "        [0.49641418],\n",
       "        [0.49577668],\n",
       "        [0.49537376],\n",
       "        [0.49518183],\n",
       "        [0.4961554 ],\n",
       "        [0.49546868],\n",
       "        [0.49687088],\n",
       "        [0.49708408],\n",
       "        [0.49825972],\n",
       "        [0.4980929 ],\n",
       "        [0.4987086 ],\n",
       "        [0.49813217],\n",
       "        [0.49783725],\n",
       "        [0.49833962],\n",
       "        [0.4976487 ],\n",
       "        [0.4981752 ],\n",
       "        [0.49801517],\n",
       "        [0.49646473],\n",
       "        [0.49722126],\n",
       "        [0.49694663],\n",
       "        [0.4968777 ],\n",
       "        [0.496857  ],\n",
       "        [0.49732322],\n",
       "        [0.49690202]], dtype=float32))"
      ]
     },
     "execution_count": 5,
     "metadata": {},
     "output_type": "execute_result"
    }
   ],
   "source": [
    "out[3][0], out[4][0]"
   ]
  },
  {
   "cell_type": "code",
   "execution_count": 6,
   "id": "8ebfddd6",
   "metadata": {},
   "outputs": [
    {
     "data": {
      "text/plain": [
       "<matplotlib.image.AxesImage at 0x15f00b3a0>"
      ]
     },
     "execution_count": 6,
     "metadata": {},
     "output_type": "execute_result"
    },
    {
     "data": {
      "image/png": "[encoded data removed]",
      "text/plain": [
       "<Figure size 640x480 with 1 Axes>"
      ]
     },
     "metadata": {},
     "output_type": "display_data"
    }
   ],
   "source": [
    "plt.imshow(out[0])"
   ]
  },
  {
   "cell_type": "code",
   "execution_count": 7,
   "id": "56a8b6ff",
   "metadata": {},
   "outputs": [
    {
     "data": {
      "text/plain": [
       "<matplotlib.image.AxesImage at 0x15f1045e0>"
      ]
     },
     "execution_count": 7,
     "metadata": {},
     "output_type": "execute_result"
    },
    {
     "data": {
      "image/png": "[encoded data removed]",
      "text/plain": [
       "<Figure size 640x480 with 1 Axes>"
      ]
     },
     "metadata": {},
     "output_type": "display_data"
    }
   ],
   "source": [
    "plt.imshow(out[1])"
   ]
  },
  {
   "cell_type": "code",
   "execution_count": null,
   "id": "1ba565d2",
   "metadata": {},
   "outputs": [],
   "source": []
  }
 ],
 "metadata": {
  "kernelspec": {
   "display_name": "Python 3 (ipykernel)",
   "language": "python",
   "name": "python3"
  },
  "language_info": {
   "codemirror_mode": {
    "name": "ipython",
    "version": 3
   },
   "file_extension": ".py",
   "mimetype": "text/x-python",
   "name": "python",
   "nbconvert_exporter": "python",
   "pygments_lexer": "ipython3",
   "version": "3.10.1"
  }
 },
 "nbformat": 4,
 "nbformat_minor": 5
}
